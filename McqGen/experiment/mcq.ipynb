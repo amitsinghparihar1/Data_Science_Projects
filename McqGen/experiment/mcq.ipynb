{
 "cells": [
  {
   "cell_type": "code",
   "execution_count": 40,
   "metadata": {},
   "outputs": [],
   "source": [
    "import os\n",
    "import json\n",
    "import pandas as pd\n",
    "import traceback"
   ]
  },
  {
   "cell_type": "code",
   "execution_count": 41,
   "metadata": {},
   "outputs": [],
   "source": [
    "from langchain.chat_models import ChatOpenAI"
   ]
  },
  {
   "cell_type": "code",
   "execution_count": 42,
   "metadata": {},
   "outputs": [
    {
     "data": {
      "text/plain": [
       "True"
      ]
     },
     "execution_count": 42,
     "metadata": {},
     "output_type": "execute_result"
    }
   ],
   "source": [
    "from dotenv import load_dotenv\n",
    "load_dotenv()"
   ]
  },
  {
   "cell_type": "code",
   "execution_count": 43,
   "metadata": {},
   "outputs": [],
   "source": [
    "KEY = os.getenv('OPENAI_API_KEY')"
   ]
  },
  {
   "cell_type": "code",
   "execution_count": 75,
   "metadata": {},
   "outputs": [],
   "source": [
    "llm = ChatOpenAI(openai_api_key=KEY, model_name='gpt-3.5-turbo', temperature=0.6)"
   ]
  },
  {
   "cell_type": "code",
   "execution_count": 77,
   "metadata": {},
   "outputs": [],
   "source": [
    "from langchain.llms import OpenAI\n",
    "from langchain.prompts import PromptTemplate\n",
    "from langchain.chains import LLMChain\n",
    "from langchain.callbacks import get_openai_callback\n",
    "import PyPDF2"
   ]
  },
  {
   "cell_type": "code",
   "execution_count": 78,
   "metadata": {},
   "outputs": [],
   "source": [
    "RESPONSE_JSON = {\n",
    "    \"1\": {\n",
    "        \"mcq\": \"multiple choice question\",\n",
    "        \"options\": {\n",
    "            \"a\": \"choice here\",\n",
    "            \"b\": \"choice here\",\n",
    "            \"c\": \"choice here\",\n",
    "            \"d\": \"choice here\",\n",
    "        },\n",
    "        \"correct\": \"correct answer\",\n",
    "    },\n",
    "    \"2\": {\n",
    "        \"mcq\": \"multiple choice question\",\n",
    "        \"options\": {\n",
    "            \"a\": \"choice here\",\n",
    "            \"b\": \"choice here\",\n",
    "            \"c\": \"choice here\",\n",
    "            \"d\": \"choice here\",\n",
    "        },\n",
    "        \"correct\": \"correct answer\",\n",
    "    },\n",
    "    \"3\": {\n",
    "        \"mcq\": \"multiple choice question\",\n",
    "        \"options\": {\n",
    "            \"a\": \"choice here\",\n",
    "            \"b\": \"choice here\",\n",
    "            \"c\": \"choice here\",\n",
    "            \"d\": \"choice here\",\n",
    "        },\n",
    "        \"correct\": \"correct answer\",\n",
    "    },\n",
    "}"
   ]
  },
  {
   "cell_type": "code",
   "execution_count": 79,
   "metadata": {},
   "outputs": [],
   "source": [
    "TEMPLATE = TEMPLATE=\"\"\"\n",
    "Text:{text}\n",
    "You are an expert MCQ maker. Given the above text, it is your job to \\\n",
    "create a quiz  of {number} multiple choice questions for {subject} students in {tone} tone. \n",
    "Make sure the questions are not repeated and check all the questions to be conforming the text as well.\n",
    "Make sure to format your response like  RESPONSE_JSON below  and use it as a guide. \\\n",
    "Ensure to make {number} MCQs\n",
    "### RESPONSE_JSON\n",
    "{response_json}\n",
    "\n",
    "\"\"\""
   ]
  },
  {
   "cell_type": "code",
   "execution_count": 80,
   "metadata": {},
   "outputs": [],
   "source": [
    "quiz_generation_prompt = PromptTemplate(\n",
    "    input_variables=['text', 'number', 'subject', 'tone', 'response_json'],\n",
    "    template=TEMPLATE\n",
    ")"
   ]
  },
  {
   "cell_type": "code",
   "execution_count": 81,
   "metadata": {},
   "outputs": [],
   "source": [
    "quiz_chain=LLMChain(llm=llm, prompt=quiz_generation_prompt, output_key=\"quiz\", verbose=True)"
   ]
  },
  {
   "cell_type": "code",
   "execution_count": 82,
   "metadata": {},
   "outputs": [],
   "source": [
    "TEMPLATE2=\"\"\"\n",
    "You are an expert english grammarian and writer. Given a Multiple Choice Quiz for {subject} students.\\\n",
    "You need to evaluate the complexity of the question and give a complete analysis of the quiz. Only use at max 50 words for complexity analysis. \n",
    "if the quiz is not at per with the cognitive and analytical abilities of the students,\\\n",
    "update the quiz questions which needs to be changed and change the tone such that it perfectly fits the student abilities\n",
    "Quiz_MCQs:\n",
    "{quiz}\n",
    "\n",
    "Check from an expert English Writer of the above quiz:\n",
    "\"\"\""
   ]
  },
  {
   "cell_type": "code",
   "execution_count": 83,
   "metadata": {},
   "outputs": [],
   "source": [
    "quiz_evaluation_prompt=PromptTemplate(input_variables=[\"subject\", \"quiz\"], template=TEMPLATE2)"
   ]
  },
  {
   "cell_type": "code",
   "execution_count": 84,
   "metadata": {},
   "outputs": [],
   "source": [
    "review_chain=LLMChain(llm=llm, prompt=quiz_evaluation_prompt, output_key=\"review\", verbose=True)"
   ]
  },
  {
   "cell_type": "code",
   "execution_count": 85,
   "metadata": {},
   "outputs": [],
   "source": [
    "from langchain.chains import SequentialChain\n",
    "generate_evaluate_chain=SequentialChain(chains=[quiz_chain, review_chain], input_variables=[\"text\", \"number\", \"subject\", \"tone\", \"response_json\"],\n",
    "                                        output_variables=[\"quiz\", \"review\"], verbose=True,)"
   ]
  },
  {
   "cell_type": "code",
   "execution_count": 86,
   "metadata": {},
   "outputs": [],
   "source": [
    "file_path = r\"C:\\Users\\amits\\mcqgen\\data.txt\""
   ]
  },
  {
   "cell_type": "code",
   "execution_count": 87,
   "metadata": {},
   "outputs": [
    {
     "data": {
      "text/plain": [
       "'C:\\\\Users\\\\amits\\\\mcqgen\\\\data.txt'"
      ]
     },
     "execution_count": 87,
     "metadata": {},
     "output_type": "execute_result"
    }
   ],
   "source": [
    "file_path"
   ]
  },
  {
   "cell_type": "code",
   "execution_count": 88,
   "metadata": {},
   "outputs": [],
   "source": [
    "with open(file_path, 'r') as file:\n",
    "    TEXT = file.read()"
   ]
  },
  {
   "cell_type": "code",
   "execution_count": 89,
   "metadata": {},
   "outputs": [
    {
     "name": "stdout",
     "output_type": "stream",
     "text": [
      "\n",
      "“Data science is the study of extracting useful insights from data using scientific methods, statistical techniques, and computational algorithms.“\n",
      "\n",
      "In today’s world, a large amount of data is generated daily. The main challenge is to deal with this data and extract insights from it to help various organizations and businesses. This is where Data Science comes to the rescue to find patterns and insights.\n",
      "\n",
      "If you are passionate about data science and want to know all about it, we will answer your questions like what is data science, what tools are used in data science, or what skills are required to become a data scientist. In this article, we will deeply explore data science concepts, why is it important, and how to make a career in data science.\n",
      "\n",
      "What is Data Science in Simple Words?\n",
      "Data science is the study to extract useful insights from the data.\n",
      "\n",
      "Data science involves the process of collecting, analyzing, and interpreting large amounts of data to find patterns, insights, and trends. The insights are then used to make data-driven decisions.\n",
      "\n",
      "Some Key points to remember about Data Science:\n",
      "\n",
      "Data science brings together ideas, data examination, machine learning, and their related strategies to understand and examine real-world events with data. \n",
      "It is an extension of data analysis fields such as data mining, statistics, and predictive analysis.\n",
      "Data science also uses the concepts of other CS fields like information science, statistics, mathematics, and computer science.\n",
      "Some of the techniques utilized in Data Science include machine learning, visualization, pattern recognition, probability modeling data, data engineering, signal processing, etc.\n",
      "Data Science Lifecycle\n",
      "The Data Science lifecycle refers to the continuous process of transforming data into meaningful insights. It includes a collection of individual steps that need to be taken, for a successful data science project.\n",
      "\n",
      "The 6 steps in a data science lifecycle are:\n",
      "\n",
      "Understanding the Business Problem: Before starting any data science projects we understand the business requirement and needs of the projects. This helps us in what type of model and evaluation matrix to use for our model.\n",
      "Data Collection: After understanding the business requirements we collect the data that can be useful to our model building. \n",
      "Data Preparation: In working with real-life projects the data we have are not suitable for direct feeding to the model. our data may have missing values, categorical data, or outliers data. we first handle all these issues and clean our dataset in the dataset preparation task.\n",
      "Model Building: In the model building stage we choose our type of model based on our data knowledge also we choose different hyperparameters like evaluation matrix, and the percentage of data to use for training and testing.\n",
      "Model Evaluation: In model evaluation, we check if the model is ready to be deployed. The model is tested with unseen data to check the model’s performance. If the model has any errors it is sent back to the model building step, else it progresses a step ahead.\n",
      "Model Deployment: In model deployment, we use the serializing method to upload our model from the Python object to disk and again deserialize the model to make predictions on a new dataset from it. we also used cloud web services to host our model.\n",
      "Feedback: In the feedback phase, we create reports using charts, graphs, or tables which makes it easier to communicate the results or findings.\n",
      "Read more – Data Science Lifecycle\n",
      "\n",
      "Data Science Prerequisites\n",
      "Some important concepts that you should know before learning data science are:\n",
      "\n",
      "1. Programming\n",
      "Data science may not be a coding-driven study, but you should be familiar with programming languages like Python and R. Many Python libraries are used in data science projects and R is used in statistical analysis and data visualization.\n",
      "\n",
      "Related Resources :\n",
      "\n",
      "Top 10 Python Libraries for Data Science\n",
      "Best Python libraries for Machine Learning\n",
      "2. Machine Learning\n",
      "Machine learning is one of the most important aspects of data science. Machine learning helps in automating tasks by building models, allowing us to solve problems with fewer codes and more understanding.\n",
      "\n",
      "3. Database Management\n",
      "Data is the most important element in data science, storing and managing data is expected from a data scientist. Databases are used to store and manipulate data, so you should also know how to work with certain databases like SQL, MongoDB, etc.\n",
      "\n",
      "4. Statistics\n",
      "Knowing statistics helps you in many data operations like distributions, hypothesis testing, clustering, etc. Mathematical Statistics is the most basic and important skill in data science.\n",
      "\n",
      "5. Modelling\n",
      "Building a model using old data is very useful to predict future outcomes. Modeling is also a sub-branch of machine learning and finds its application in various fields like vaccine testing, fraud detection, etc.\n"
     ]
    }
   ],
   "source": [
    "print(TEXT)"
   ]
  },
  {
   "cell_type": "code",
   "execution_count": 90,
   "metadata": {},
   "outputs": [
    {
     "data": {
      "text/plain": [
       "'\"RESPONSE_JSON\"'"
      ]
     },
     "execution_count": 90,
     "metadata": {},
     "output_type": "execute_result"
    }
   ],
   "source": [
    "# Serialize the Python dictionary into a JSON-formatted string\n",
    "json.dumps('RESPONSE_JSON')"
   ]
  },
  {
   "cell_type": "code",
   "execution_count": 91,
   "metadata": {},
   "outputs": [],
   "source": [
    "NUMBER=5 \n",
    "SUBJECT=\"Data Science\"\n",
    "TONE=\"simple\""
   ]
  },
  {
   "cell_type": "code",
   "execution_count": 92,
   "metadata": {},
   "outputs": [
    {
     "name": "stdout",
     "output_type": "stream",
     "text": [
      "\n",
      "\n",
      "\u001b[1m> Entering new SequentialChain chain...\u001b[0m\n",
      "\n",
      "\n",
      "\u001b[1m> Entering new LLMChain chain...\u001b[0m\n",
      "Prompt after formatting:\n",
      "\u001b[32;1m\u001b[1;3m\n",
      "Text:\n",
      "“Data science is the study of extracting useful insights from data using scientific methods, statistical techniques, and computational algorithms.“\n",
      "\n",
      "In today’s world, a large amount of data is generated daily. The main challenge is to deal with this data and extract insights from it to help various organizations and businesses. This is where Data Science comes to the rescue to find patterns and insights.\n",
      "\n",
      "If you are passionate about data science and want to know all about it, we will answer your questions like what is data science, what tools are used in data science, or what skills are required to become a data scientist. In this article, we will deeply explore data science concepts, why is it important, and how to make a career in data science.\n",
      "\n",
      "What is Data Science in Simple Words?\n",
      "Data science is the study to extract useful insights from the data.\n",
      "\n",
      "Data science involves the process of collecting, analyzing, and interpreting large amounts of data to find patterns, insights, and trends. The insights are then used to make data-driven decisions.\n",
      "\n",
      "Some Key points to remember about Data Science:\n",
      "\n",
      "Data science brings together ideas, data examination, machine learning, and their related strategies to understand and examine real-world events with data. \n",
      "It is an extension of data analysis fields such as data mining, statistics, and predictive analysis.\n",
      "Data science also uses the concepts of other CS fields like information science, statistics, mathematics, and computer science.\n",
      "Some of the techniques utilized in Data Science include machine learning, visualization, pattern recognition, probability modeling data, data engineering, signal processing, etc.\n",
      "Data Science Lifecycle\n",
      "The Data Science lifecycle refers to the continuous process of transforming data into meaningful insights. It includes a collection of individual steps that need to be taken, for a successful data science project.\n",
      "\n",
      "The 6 steps in a data science lifecycle are:\n",
      "\n",
      "Understanding the Business Problem: Before starting any data science projects we understand the business requirement and needs of the projects. This helps us in what type of model and evaluation matrix to use for our model.\n",
      "Data Collection: After understanding the business requirements we collect the data that can be useful to our model building. \n",
      "Data Preparation: In working with real-life projects the data we have are not suitable for direct feeding to the model. our data may have missing values, categorical data, or outliers data. we first handle all these issues and clean our dataset in the dataset preparation task.\n",
      "Model Building: In the model building stage we choose our type of model based on our data knowledge also we choose different hyperparameters like evaluation matrix, and the percentage of data to use for training and testing.\n",
      "Model Evaluation: In model evaluation, we check if the model is ready to be deployed. The model is tested with unseen data to check the model’s performance. If the model has any errors it is sent back to the model building step, else it progresses a step ahead.\n",
      "Model Deployment: In model deployment, we use the serializing method to upload our model from the Python object to disk and again deserialize the model to make predictions on a new dataset from it. we also used cloud web services to host our model.\n",
      "Feedback: In the feedback phase, we create reports using charts, graphs, or tables which makes it easier to communicate the results or findings.\n",
      "Read more – Data Science Lifecycle\n",
      "\n",
      "Data Science Prerequisites\n",
      "Some important concepts that you should know before learning data science are:\n",
      "\n",
      "1. Programming\n",
      "Data science may not be a coding-driven study, but you should be familiar with programming languages like Python and R. Many Python libraries are used in data science projects and R is used in statistical analysis and data visualization.\n",
      "\n",
      "Related Resources :\n",
      "\n",
      "Top 10 Python Libraries for Data Science\n",
      "Best Python libraries for Machine Learning\n",
      "2. Machine Learning\n",
      "Machine learning is one of the most important aspects of data science. Machine learning helps in automating tasks by building models, allowing us to solve problems with fewer codes and more understanding.\n",
      "\n",
      "3. Database Management\n",
      "Data is the most important element in data science, storing and managing data is expected from a data scientist. Databases are used to store and manipulate data, so you should also know how to work with certain databases like SQL, MongoDB, etc.\n",
      "\n",
      "4. Statistics\n",
      "Knowing statistics helps you in many data operations like distributions, hypothesis testing, clustering, etc. Mathematical Statistics is the most basic and important skill in data science.\n",
      "\n",
      "5. Modelling\n",
      "Building a model using old data is very useful to predict future outcomes. Modeling is also a sub-branch of machine learning and finds its application in various fields like vaccine testing, fraud detection, etc.\n",
      "You are an expert MCQ maker. Given the above text, it is your job to create a quiz  of 5 multiple choice questions for Data Science students in simple tone. \n",
      "Make sure the questions are not repeated and check all the questions to be conforming the text as well.\n",
      "Make sure to format your response like  RESPONSE_JSON below  and use it as a guide. Ensure to make 5 MCQs\n",
      "### RESPONSE_JSON\n",
      "{\"1\": {\"mcq\": \"multiple choice question\", \"options\": {\"a\": \"choice here\", \"b\": \"choice here\", \"c\": \"choice here\", \"d\": \"choice here\"}, \"correct\": \"correct answer\"}, \"2\": {\"mcq\": \"multiple choice question\", \"options\": {\"a\": \"choice here\", \"b\": \"choice here\", \"c\": \"choice here\", \"d\": \"choice here\"}, \"correct\": \"correct answer\"}, \"3\": {\"mcq\": \"multiple choice question\", \"options\": {\"a\": \"choice here\", \"b\": \"choice here\", \"c\": \"choice here\", \"d\": \"choice here\"}, \"correct\": \"correct answer\"}}\n",
      "\n",
      "\u001b[0m\n",
      "\n",
      "\u001b[1m> Finished chain.\u001b[0m\n",
      "\n",
      "\n",
      "\u001b[1m> Entering new LLMChain chain...\u001b[0m\n",
      "Prompt after formatting:\n",
      "\u001b[32;1m\u001b[1;3m\n",
      "You are an expert english grammarian and writer. Given a Multiple Choice Quiz for Data Science students.You need to evaluate the complexity of the question and give a complete analysis of the quiz. Only use at max 50 words for complexity analysis. \n",
      "if the quiz is not at per with the cognitive and analytical abilities of the students,update the quiz questions which needs to be changed and change the tone such that it perfectly fits the student abilities\n",
      "Quiz_MCQs:\n",
      "{\n",
      "\"1\": {\n",
      "\"mcq\": \"What is the main goal of Data Science?\",\n",
      "\"options\": {\n",
      "\"a\": \"To collect data\",\n",
      "\"b\": \"To extract useful insights from data\",\n",
      "\"c\": \"To visualize data\",\n",
      "\"d\": \"To store data\"\n",
      "},\n",
      "\"correct\": \"b\"\n",
      "},\n",
      "\"2\": {\n",
      "\"mcq\": \"Which programming languages are commonly used in Data Science?\",\n",
      "\"options\": {\n",
      "\"a\": \"Java and C++\",\n",
      "\"b\": \"Python and R\",\n",
      "\"c\": \"JavaScript and Ruby\",\n",
      "\"d\": \"PHP and SQL\"\n",
      "},\n",
      "\"correct\": \"b\"\n",
      "},\n",
      "\"3\": {\n",
      "\"mcq\": \"What is the importance of Machine Learning in Data Science?\",\n",
      "\"options\": {\n",
      "\"a\": \"It helps in automating tasks\",\n",
      "\"b\": \"It helps in data visualization\",\n",
      "\"c\": \"It helps in data collection\",\n",
      "\"d\": \"It helps in data storage\"\n",
      "},\n",
      "\"correct\": \"a\"\n",
      "},\n",
      "\"4\": {\n",
      "\"mcq\": \"Why is knowledge of Statistics important in Data Science?\",\n",
      "\"options\": {\n",
      "\"a\": \"To build models\",\n",
      "\"b\": \"To manage databases\",\n",
      "\"c\": \"To understand real-world events with data\",\n",
      "\"d\": \"To automate tasks\"\n",
      "},\n",
      "\"correct\": \"c\"\n",
      "},\n",
      "\"5\": {\n",
      "\"mcq\": \"What is the purpose of Model Deployment in Data Science?\",\n",
      "\"options\": {\n",
      "\"a\": \"To collect data\",\n",
      "\"b\": \"To analyze data\",\n",
      "\"c\": \"To make predictions on new datasets\",\n",
      "\"d\": \"To visualize data\"\n",
      "},\n",
      "\"correct\": \"c\"\n",
      "}\n",
      "}\n",
      "\n",
      "Check from an expert English Writer of the above quiz:\n",
      "\u001b[0m\n",
      "\n",
      "\u001b[1m> Finished chain.\u001b[0m\n",
      "\n",
      "\u001b[1m> Finished chain.\u001b[0m\n"
     ]
    }
   ],
   "source": [
    "#https://python.langchain.com/docs/modules/model_io/llms/token_usage_tracking\n",
    "\n",
    "#How to setup Token Usage Tracking in LangChain\n",
    "with get_openai_callback() as cb:\n",
    "    response=generate_evaluate_chain(\n",
    "        {\n",
    "            \"text\": TEXT,\n",
    "            \"number\": NUMBER,\n",
    "            \"subject\":SUBJECT,\n",
    "            \"tone\": TONE,\n",
    "            \"response_json\": json.dumps(RESPONSE_JSON)\n",
    "        }\n",
    "        )\n"
   ]
  },
  {
   "cell_type": "code",
   "execution_count": 93,
   "metadata": {},
   "outputs": [
    {
     "name": "stdout",
     "output_type": "stream",
     "text": [
      "Total Tokens:1974\n",
      "Prompt Tokens:1599\n",
      "Completion Tokens:375\n",
      "Total Cost:0.0031485000000000003\n"
     ]
    }
   ],
   "source": [
    "print(f\"Total Tokens:{cb.total_tokens}\")\n",
    "print(f\"Prompt Tokens:{cb.prompt_tokens}\")\n",
    "print(f\"Completion Tokens:{cb.completion_tokens}\")\n",
    "print(f\"Total Cost:{cb.total_cost}\")"
   ]
  },
  {
   "cell_type": "code",
   "execution_count": 94,
   "metadata": {},
   "outputs": [
    {
     "data": {
      "text/plain": [
       "{'text': '\\n“Data science is the study of extracting useful insights from data using scientific methods, statistical techniques, and computational algorithms.“\\n\\nIn today’s world, a large amount of data is generated daily. The main challenge is to deal with this data and extract insights from it to help various organizations and businesses. This is where Data Science comes to the rescue to find patterns and insights.\\n\\nIf you are passionate about data science and want to know all about it, we will answer your questions like what is data science, what tools are used in data science, or what skills are required to become a data scientist. In this article, we will deeply explore data science concepts, why is it important, and how to make a career in data science.\\n\\nWhat is Data Science in Simple Words?\\nData science is the study to extract useful insights from the data.\\n\\nData science involves the process of collecting, analyzing, and interpreting large amounts of data to find patterns, insights, and trends. The insights are then used to make data-driven decisions.\\n\\nSome Key points to remember about Data Science:\\n\\nData science brings together ideas, data examination, machine learning, and their related strategies to understand and examine real-world events with data. \\nIt is an extension of data analysis fields such as data mining, statistics, and predictive analysis.\\nData science also uses the concepts of other CS fields like information science, statistics, mathematics, and computer science.\\nSome of the techniques utilized in Data Science include machine learning, visualization, pattern recognition, probability modeling data, data engineering, signal processing, etc.\\nData Science Lifecycle\\nThe Data Science lifecycle refers to the continuous process of transforming data into meaningful insights. It includes a collection of individual steps that need to be taken, for a successful data science project.\\n\\nThe 6 steps in a data science lifecycle are:\\n\\nUnderstanding the Business Problem: Before starting any data science projects we understand the business requirement and needs of the projects. This helps us in what type of model and evaluation matrix to use for our model.\\nData Collection: After understanding the business requirements we collect the data that can be useful to our model building. \\nData Preparation: In working with real-life projects the data we have are not suitable for direct feeding to the model. our data may have missing values, categorical data, or outliers data. we first handle all these issues and clean our dataset in the dataset preparation task.\\nModel Building: In the model building stage we choose our type of model based on our data knowledge also we choose different hyperparameters like evaluation matrix, and the percentage of data to use for training and testing.\\nModel Evaluation: In model evaluation, we check if the model is ready to be deployed. The model is tested with unseen data to check the model’s performance. If the model has any errors it is sent back to the model building step, else it progresses a step ahead.\\nModel Deployment: In model deployment, we use the serializing method to upload our model from the Python object to disk and again deserialize the model to make predictions on a new dataset from it. we also used cloud web services to host our model.\\nFeedback: In the feedback phase, we create reports using charts, graphs, or tables which makes it easier to communicate the results or findings.\\nRead more – Data Science Lifecycle\\n\\nData Science Prerequisites\\nSome important concepts that you should know before learning data science are:\\n\\n1. Programming\\nData science may not be a coding-driven study, but you should be familiar with programming languages like Python and R. Many Python libraries are used in data science projects and R is used in statistical analysis and data visualization.\\n\\nRelated Resources :\\n\\nTop 10 Python Libraries for Data Science\\nBest Python libraries for Machine Learning\\n2. Machine Learning\\nMachine learning is one of the most important aspects of data science. Machine learning helps in automating tasks by building models, allowing us to solve problems with fewer codes and more understanding.\\n\\n3. Database Management\\nData is the most important element in data science, storing and managing data is expected from a data scientist. Databases are used to store and manipulate data, so you should also know how to work with certain databases like SQL, MongoDB, etc.\\n\\n4. Statistics\\nKnowing statistics helps you in many data operations like distributions, hypothesis testing, clustering, etc. Mathematical Statistics is the most basic and important skill in data science.\\n\\n5. Modelling\\nBuilding a model using old data is very useful to predict future outcomes. Modeling is also a sub-branch of machine learning and finds its application in various fields like vaccine testing, fraud detection, etc.',\n",
       " 'number': 5,\n",
       " 'subject': 'Data Science',\n",
       " 'tone': 'simple',\n",
       " 'response_json': '{\"1\": {\"mcq\": \"multiple choice question\", \"options\": {\"a\": \"choice here\", \"b\": \"choice here\", \"c\": \"choice here\", \"d\": \"choice here\"}, \"correct\": \"correct answer\"}, \"2\": {\"mcq\": \"multiple choice question\", \"options\": {\"a\": \"choice here\", \"b\": \"choice here\", \"c\": \"choice here\", \"d\": \"choice here\"}, \"correct\": \"correct answer\"}, \"3\": {\"mcq\": \"multiple choice question\", \"options\": {\"a\": \"choice here\", \"b\": \"choice here\", \"c\": \"choice here\", \"d\": \"choice here\"}, \"correct\": \"correct answer\"}}',\n",
       " 'quiz': '{\\n\"1\": {\\n\"mcq\": \"What is the main goal of Data Science?\",\\n\"options\": {\\n\"a\": \"To collect data\",\\n\"b\": \"To extract useful insights from data\",\\n\"c\": \"To visualize data\",\\n\"d\": \"To store data\"\\n},\\n\"correct\": \"b\"\\n},\\n\"2\": {\\n\"mcq\": \"Which programming languages are commonly used in Data Science?\",\\n\"options\": {\\n\"a\": \"Java and C++\",\\n\"b\": \"Python and R\",\\n\"c\": \"JavaScript and Ruby\",\\n\"d\": \"PHP and SQL\"\\n},\\n\"correct\": \"b\"\\n},\\n\"3\": {\\n\"mcq\": \"What is the importance of Machine Learning in Data Science?\",\\n\"options\": {\\n\"a\": \"It helps in automating tasks\",\\n\"b\": \"It helps in data visualization\",\\n\"c\": \"It helps in data collection\",\\n\"d\": \"It helps in data storage\"\\n},\\n\"correct\": \"a\"\\n},\\n\"4\": {\\n\"mcq\": \"Why is knowledge of Statistics important in Data Science?\",\\n\"options\": {\\n\"a\": \"To build models\",\\n\"b\": \"To manage databases\",\\n\"c\": \"To understand real-world events with data\",\\n\"d\": \"To automate tasks\"\\n},\\n\"correct\": \"c\"\\n},\\n\"5\": {\\n\"mcq\": \"What is the purpose of Model Deployment in Data Science?\",\\n\"options\": {\\n\"a\": \"To collect data\",\\n\"b\": \"To analyze data\",\\n\"c\": \"To make predictions on new datasets\",\\n\"d\": \"To visualize data\"\\n},\\n\"correct\": \"c\"\\n}\\n}',\n",
       " 'review': 'The complexity of the quiz questions is appropriate for Data Science students. The questions cover key concepts such as the main goal of Data Science, commonly used programming languages, importance of Machine Learning, knowledge of Statistics, and purpose of Model Deployment. No changes are needed.'}"
      ]
     },
     "execution_count": 94,
     "metadata": {},
     "output_type": "execute_result"
    }
   ],
   "source": [
    "response"
   ]
  },
  {
   "cell_type": "code",
   "execution_count": 95,
   "metadata": {},
   "outputs": [],
   "source": [
    "quiz=response.get(\"quiz\")"
   ]
  },
  {
   "cell_type": "code",
   "execution_count": 97,
   "metadata": {},
   "outputs": [
    {
     "name": "stdout",
     "output_type": "stream",
     "text": [
      "{\n",
      "\"1\": {\n",
      "\"mcq\": \"What is the main goal of Data Science?\",\n",
      "\"options\": {\n",
      "\"a\": \"To collect data\",\n",
      "\"b\": \"To extract useful insights from data\",\n",
      "\"c\": \"To visualize data\",\n",
      "\"d\": \"To store data\"\n",
      "},\n",
      "\"correct\": \"b\"\n",
      "},\n",
      "\"2\": {\n",
      "\"mcq\": \"Which programming languages are commonly used in Data Science?\",\n",
      "\"options\": {\n",
      "\"a\": \"Java and C++\",\n",
      "\"b\": \"Python and R\",\n",
      "\"c\": \"JavaScript and Ruby\",\n",
      "\"d\": \"PHP and SQL\"\n",
      "},\n",
      "\"correct\": \"b\"\n",
      "},\n",
      "\"3\": {\n",
      "\"mcq\": \"What is the importance of Machine Learning in Data Science?\",\n",
      "\"options\": {\n",
      "\"a\": \"It helps in automating tasks\",\n",
      "\"b\": \"It helps in data visualization\",\n",
      "\"c\": \"It helps in data collection\",\n",
      "\"d\": \"It helps in data storage\"\n",
      "},\n",
      "\"correct\": \"a\"\n",
      "},\n",
      "\"4\": {\n",
      "\"mcq\": \"Why is knowledge of Statistics important in Data Science?\",\n",
      "\"options\": {\n",
      "\"a\": \"To build models\",\n",
      "\"b\": \"To manage databases\",\n",
      "\"c\": \"To understand real-world events with data\",\n",
      "\"d\": \"To automate tasks\"\n",
      "},\n",
      "\"correct\": \"c\"\n",
      "},\n",
      "\"5\": {\n",
      "\"mcq\": \"What is the purpose of Model Deployment in Data Science?\",\n",
      "\"options\": {\n",
      "\"a\": \"To collect data\",\n",
      "\"b\": \"To analyze data\",\n",
      "\"c\": \"To make predictions on new datasets\",\n",
      "\"d\": \"To visualize data\"\n",
      "},\n",
      "\"correct\": \"c\"\n",
      "}\n",
      "}\n"
     ]
    }
   ],
   "source": [
    "print(quiz)"
   ]
  },
  {
   "cell_type": "code",
   "execution_count": 98,
   "metadata": {},
   "outputs": [],
   "source": [
    "quiz=json.loads(quiz)"
   ]
  },
  {
   "cell_type": "code",
   "execution_count": 99,
   "metadata": {},
   "outputs": [
    {
     "data": {
      "text/plain": [
       "{'1': {'mcq': 'What is the main goal of Data Science?',\n",
       "  'options': {'a': 'To collect data',\n",
       "   'b': 'To extract useful insights from data',\n",
       "   'c': 'To visualize data',\n",
       "   'd': 'To store data'},\n",
       "  'correct': 'b'},\n",
       " '2': {'mcq': 'Which programming languages are commonly used in Data Science?',\n",
       "  'options': {'a': 'Java and C++',\n",
       "   'b': 'Python and R',\n",
       "   'c': 'JavaScript and Ruby',\n",
       "   'd': 'PHP and SQL'},\n",
       "  'correct': 'b'},\n",
       " '3': {'mcq': 'What is the importance of Machine Learning in Data Science?',\n",
       "  'options': {'a': 'It helps in automating tasks',\n",
       "   'b': 'It helps in data visualization',\n",
       "   'c': 'It helps in data collection',\n",
       "   'd': 'It helps in data storage'},\n",
       "  'correct': 'a'},\n",
       " '4': {'mcq': 'Why is knowledge of Statistics important in Data Science?',\n",
       "  'options': {'a': 'To build models',\n",
       "   'b': 'To manage databases',\n",
       "   'c': 'To understand real-world events with data',\n",
       "   'd': 'To automate tasks'},\n",
       "  'correct': 'c'},\n",
       " '5': {'mcq': 'What is the purpose of Model Deployment in Data Science?',\n",
       "  'options': {'a': 'To collect data',\n",
       "   'b': 'To analyze data',\n",
       "   'c': 'To make predictions on new datasets',\n",
       "   'd': 'To visualize data'},\n",
       "  'correct': 'c'}}"
      ]
     },
     "execution_count": 99,
     "metadata": {},
     "output_type": "execute_result"
    }
   ],
   "source": [
    "quiz"
   ]
  },
  {
   "cell_type": "code",
   "execution_count": 100,
   "metadata": {},
   "outputs": [],
   "source": [
    "quiz_table_data = []\n",
    "for key, value in quiz.items():\n",
    "    mcq = value[\"mcq\"]\n",
    "    options = \" | \".join(\n",
    "        [\n",
    "            f\"{option}: {option_value}\"\n",
    "            for option, option_value in value[\"options\"].items()\n",
    "            ]\n",
    "        )\n",
    "    correct = value[\"correct\"]\n",
    "    quiz_table_data.append({\"MCQ\": mcq, \"Choices\": options, \"Correct\": correct})"
   ]
  },
  {
   "cell_type": "code",
   "execution_count": 101,
   "metadata": {},
   "outputs": [
    {
     "data": {
      "text/plain": [
       "[{'MCQ': 'What is the main goal of Data Science?',\n",
       "  'Choices': 'a: To collect data | b: To extract useful insights from data | c: To visualize data | d: To store data',\n",
       "  'Correct': 'b'},\n",
       " {'MCQ': 'Which programming languages are commonly used in Data Science?',\n",
       "  'Choices': 'a: Java and C++ | b: Python and R | c: JavaScript and Ruby | d: PHP and SQL',\n",
       "  'Correct': 'b'},\n",
       " {'MCQ': 'What is the importance of Machine Learning in Data Science?',\n",
       "  'Choices': 'a: It helps in automating tasks | b: It helps in data visualization | c: It helps in data collection | d: It helps in data storage',\n",
       "  'Correct': 'a'},\n",
       " {'MCQ': 'Why is knowledge of Statistics important in Data Science?',\n",
       "  'Choices': 'a: To build models | b: To manage databases | c: To understand real-world events with data | d: To automate tasks',\n",
       "  'Correct': 'c'},\n",
       " {'MCQ': 'What is the purpose of Model Deployment in Data Science?',\n",
       "  'Choices': 'a: To collect data | b: To analyze data | c: To make predictions on new datasets | d: To visualize data',\n",
       "  'Correct': 'c'}]"
      ]
     },
     "execution_count": 101,
     "metadata": {},
     "output_type": "execute_result"
    }
   ],
   "source": [
    "quiz_table_data"
   ]
  },
  {
   "cell_type": "code",
   "execution_count": 102,
   "metadata": {},
   "outputs": [],
   "source": [
    "quiz=pd.DataFrame(quiz_table_data)"
   ]
  },
  {
   "cell_type": "code",
   "execution_count": 103,
   "metadata": {},
   "outputs": [],
   "source": [
    "quiz.to_csv(\"datascience.csv\",index=False)"
   ]
  }
 ],
 "metadata": {
  "kernelspec": {
   "display_name": "Python 3",
   "language": "python",
   "name": "python3"
  },
  "language_info": {
   "codemirror_mode": {
    "name": "ipython",
    "version": 3
   },
   "file_extension": ".py",
   "mimetype": "text/x-python",
   "name": "python",
   "nbconvert_exporter": "python",
   "pygments_lexer": "ipython3",
   "version": "3.8.18"
  }
 },
 "nbformat": 4,
 "nbformat_minor": 2
}
