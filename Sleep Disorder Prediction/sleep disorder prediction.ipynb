{
 "cells": [
  {
   "cell_type": "code",
   "execution_count": 1,
   "id": "b6c2f6f7-aa40-44f1-9302-0215eb3c83c8",
   "metadata": {},
   "outputs": [],
   "source": [
    "import numpy as np\n",
    "import seaborn as sns\n",
    "import matplotlib.pyplot as plt\n",
    "import pandas as pd"
   ]
  },
  {
   "cell_type": "code",
   "execution_count": 2,
   "id": "8b6317df-1be3-49b2-9ba2-ff9e40ea1292",
   "metadata": {},
   "outputs": [],
   "source": [
    "df = pd.read_csv(r\"C:\\Users\\amits\\Downloads\\Sleep_health_and_lifestyle_dataset.csv\")"
   ]
  },
  {
   "cell_type": "code",
   "execution_count": 3,
   "id": "ec91c567-0027-40ab-a23e-759beec30adc",
   "metadata": {},
   "outputs": [
    {
     "data": {
      "text/html": [
       "<div>\n",
       "<style scoped>\n",
       "    .dataframe tbody tr th:only-of-type {\n",
       "        vertical-align: middle;\n",
       "    }\n",
       "\n",
       "    .dataframe tbody tr th {\n",
       "        vertical-align: top;\n",
       "    }\n",
       "\n",
       "    .dataframe thead th {\n",
       "        text-align: right;\n",
       "    }\n",
       "</style>\n",
       "<table border=\"1\" class=\"dataframe\">\n",
       "  <thead>\n",
       "    <tr style=\"text-align: right;\">\n",
       "      <th></th>\n",
       "      <th>Person ID</th>\n",
       "      <th>Gender</th>\n",
       "      <th>Age</th>\n",
       "      <th>Occupation</th>\n",
       "      <th>Sleep Duration</th>\n",
       "      <th>Quality of Sleep</th>\n",
       "      <th>Physical Activity Level</th>\n",
       "      <th>Stress Level</th>\n",
       "      <th>BMI Category</th>\n",
       "      <th>Blood Pressure</th>\n",
       "      <th>Heart Rate</th>\n",
       "      <th>Daily Steps</th>\n",
       "      <th>Sleep Disorder</th>\n",
       "    </tr>\n",
       "  </thead>\n",
       "  <tbody>\n",
       "    <tr>\n",
       "      <th>0</th>\n",
       "      <td>1</td>\n",
       "      <td>Male</td>\n",
       "      <td>27</td>\n",
       "      <td>Software Engineer</td>\n",
       "      <td>6.1</td>\n",
       "      <td>6</td>\n",
       "      <td>42</td>\n",
       "      <td>6</td>\n",
       "      <td>Overweight</td>\n",
       "      <td>126/83</td>\n",
       "      <td>77</td>\n",
       "      <td>4200</td>\n",
       "      <td>NaN</td>\n",
       "    </tr>\n",
       "    <tr>\n",
       "      <th>1</th>\n",
       "      <td>2</td>\n",
       "      <td>Male</td>\n",
       "      <td>28</td>\n",
       "      <td>Doctor</td>\n",
       "      <td>6.2</td>\n",
       "      <td>6</td>\n",
       "      <td>60</td>\n",
       "      <td>8</td>\n",
       "      <td>Normal</td>\n",
       "      <td>125/80</td>\n",
       "      <td>75</td>\n",
       "      <td>10000</td>\n",
       "      <td>NaN</td>\n",
       "    </tr>\n",
       "    <tr>\n",
       "      <th>2</th>\n",
       "      <td>3</td>\n",
       "      <td>Male</td>\n",
       "      <td>28</td>\n",
       "      <td>Doctor</td>\n",
       "      <td>6.2</td>\n",
       "      <td>6</td>\n",
       "      <td>60</td>\n",
       "      <td>8</td>\n",
       "      <td>Normal</td>\n",
       "      <td>125/80</td>\n",
       "      <td>75</td>\n",
       "      <td>10000</td>\n",
       "      <td>NaN</td>\n",
       "    </tr>\n",
       "    <tr>\n",
       "      <th>3</th>\n",
       "      <td>4</td>\n",
       "      <td>Male</td>\n",
       "      <td>28</td>\n",
       "      <td>Sales Representative</td>\n",
       "      <td>5.9</td>\n",
       "      <td>4</td>\n",
       "      <td>30</td>\n",
       "      <td>8</td>\n",
       "      <td>Obese</td>\n",
       "      <td>140/90</td>\n",
       "      <td>85</td>\n",
       "      <td>3000</td>\n",
       "      <td>Sleep Apnea</td>\n",
       "    </tr>\n",
       "    <tr>\n",
       "      <th>4</th>\n",
       "      <td>5</td>\n",
       "      <td>Male</td>\n",
       "      <td>28</td>\n",
       "      <td>Sales Representative</td>\n",
       "      <td>5.9</td>\n",
       "      <td>4</td>\n",
       "      <td>30</td>\n",
       "      <td>8</td>\n",
       "      <td>Obese</td>\n",
       "      <td>140/90</td>\n",
       "      <td>85</td>\n",
       "      <td>3000</td>\n",
       "      <td>Sleep Apnea</td>\n",
       "    </tr>\n",
       "  </tbody>\n",
       "</table>\n",
       "</div>"
      ],
      "text/plain": [
       "   Person ID Gender  Age            Occupation  Sleep Duration  \\\n",
       "0          1   Male   27     Software Engineer             6.1   \n",
       "1          2   Male   28                Doctor             6.2   \n",
       "2          3   Male   28                Doctor             6.2   \n",
       "3          4   Male   28  Sales Representative             5.9   \n",
       "4          5   Male   28  Sales Representative             5.9   \n",
       "\n",
       "   Quality of Sleep  Physical Activity Level  Stress Level BMI Category  \\\n",
       "0                 6                       42             6   Overweight   \n",
       "1                 6                       60             8       Normal   \n",
       "2                 6                       60             8       Normal   \n",
       "3                 4                       30             8        Obese   \n",
       "4                 4                       30             8        Obese   \n",
       "\n",
       "  Blood Pressure  Heart Rate  Daily Steps Sleep Disorder  \n",
       "0         126/83          77         4200            NaN  \n",
       "1         125/80          75        10000            NaN  \n",
       "2         125/80          75        10000            NaN  \n",
       "3         140/90          85         3000    Sleep Apnea  \n",
       "4         140/90          85         3000    Sleep Apnea  "
      ]
     },
     "execution_count": 3,
     "metadata": {},
     "output_type": "execute_result"
    }
   ],
   "source": [
    "df.head()"
   ]
  },
  {
   "cell_type": "code",
   "execution_count": 4,
   "id": "281819c5-7df5-41cb-8a90-ae8b0ff0e8ee",
   "metadata": {},
   "outputs": [],
   "source": [
    "# Data Preprocessing"
   ]
  },
  {
   "cell_type": "code",
   "execution_count": 5,
   "id": "a15cee66-4853-407d-b587-5f735ac49fb4",
   "metadata": {},
   "outputs": [
    {
     "data": {
      "text/plain": [
       "Person ID                    0\n",
       "Gender                       0\n",
       "Age                          0\n",
       "Occupation                   0\n",
       "Sleep Duration               0\n",
       "Quality of Sleep             0\n",
       "Physical Activity Level      0\n",
       "Stress Level                 0\n",
       "BMI Category                 0\n",
       "Blood Pressure               0\n",
       "Heart Rate                   0\n",
       "Daily Steps                  0\n",
       "Sleep Disorder             219\n",
       "dtype: int64"
      ]
     },
     "execution_count": 5,
     "metadata": {},
     "output_type": "execute_result"
    }
   ],
   "source": [
    "df.isnull().sum()"
   ]
  },
  {
   "cell_type": "code",
   "execution_count": 6,
   "id": "925dae35-9bd7-4fd3-8be6-a8dba51c10f3",
   "metadata": {},
   "outputs": [
    {
     "data": {
      "text/plain": [
       "Sleep Disorder\n",
       "Sleep Apnea    78\n",
       "Insomnia       77\n",
       "Name: count, dtype: int64"
      ]
     },
     "execution_count": 6,
     "metadata": {},
     "output_type": "execute_result"
    }
   ],
   "source": [
    "df['Sleep Disorder'].value_counts()"
   ]
  },
  {
   "cell_type": "markdown",
   "id": "a23e0f18-20b7-4cfa-ad6a-4fd468d92798",
   "metadata": {},
   "source": [
    "The nan value stands for No sleep disorder for sleep disorder column so we can fill it with 'None'"
   ]
  },
  {
   "cell_type": "code",
   "execution_count": 7,
   "id": "8c0af74e-2dc8-4ef2-a576-73432ca30bc1",
   "metadata": {},
   "outputs": [
    {
     "name": "stderr",
     "output_type": "stream",
     "text": [
      "C:\\Users\\amits\\AppData\\Local\\Temp/ipykernel_21572/618552071.py:1: FutureWarning: A value is trying to be set on a copy of a DataFrame or Series through chained assignment using an inplace method.\n",
      "The behavior will change in pandas 3.0. This inplace method will never work because the intermediate object on which we are setting values always behaves as a copy.\n",
      "\n",
      "For example, when doing 'df[col].method(value, inplace=True)', try using 'df.method({col: value}, inplace=True)' or df[col] = df[col].method(value) instead, to perform the operation inplace on the original object.\n",
      "\n",
      "\n",
      "  df['Sleep Disorder'].fillna('None', inplace = True)\n"
     ]
    }
   ],
   "source": [
    "df['Sleep Disorder'].fillna('None', inplace = True)"
   ]
  },
  {
   "cell_type": "code",
   "execution_count": 8,
   "id": "f40811d9-86e9-42b8-b356-3463daca427b",
   "metadata": {},
   "outputs": [
    {
     "data": {
      "text/plain": [
       "Person ID                  0\n",
       "Gender                     0\n",
       "Age                        0\n",
       "Occupation                 0\n",
       "Sleep Duration             0\n",
       "Quality of Sleep           0\n",
       "Physical Activity Level    0\n",
       "Stress Level               0\n",
       "BMI Category               0\n",
       "Blood Pressure             0\n",
       "Heart Rate                 0\n",
       "Daily Steps                0\n",
       "Sleep Disorder             0\n",
       "dtype: int64"
      ]
     },
     "execution_count": 8,
     "metadata": {},
     "output_type": "execute_result"
    }
   ],
   "source": [
    "df.isnull().sum()"
   ]
  },
  {
   "cell_type": "code",
   "execution_count": 9,
   "id": "ba7cd36a-6153-4eda-8bad-fe73b677a697",
   "metadata": {},
   "outputs": [],
   "source": [
    "df.drop('Person ID', axis=1, inplace = True)"
   ]
  },
  {
   "cell_type": "code",
   "execution_count": 10,
   "id": "62c68cb8-fd96-43a1-a251-fd04fe2d49cf",
   "metadata": {},
   "outputs": [
    {
     "data": {
      "text/html": [
       "<div>\n",
       "<style scoped>\n",
       "    .dataframe tbody tr th:only-of-type {\n",
       "        vertical-align: middle;\n",
       "    }\n",
       "\n",
       "    .dataframe tbody tr th {\n",
       "        vertical-align: top;\n",
       "    }\n",
       "\n",
       "    .dataframe thead th {\n",
       "        text-align: right;\n",
       "    }\n",
       "</style>\n",
       "<table border=\"1\" class=\"dataframe\">\n",
       "  <thead>\n",
       "    <tr style=\"text-align: right;\">\n",
       "      <th></th>\n",
       "      <th>Gender</th>\n",
       "      <th>Age</th>\n",
       "      <th>Occupation</th>\n",
       "      <th>Sleep Duration</th>\n",
       "      <th>Quality of Sleep</th>\n",
       "      <th>Physical Activity Level</th>\n",
       "      <th>Stress Level</th>\n",
       "      <th>BMI Category</th>\n",
       "      <th>Blood Pressure</th>\n",
       "      <th>Heart Rate</th>\n",
       "      <th>Daily Steps</th>\n",
       "      <th>Sleep Disorder</th>\n",
       "    </tr>\n",
       "  </thead>\n",
       "  <tbody>\n",
       "    <tr>\n",
       "      <th>0</th>\n",
       "      <td>Male</td>\n",
       "      <td>27</td>\n",
       "      <td>Software Engineer</td>\n",
       "      <td>6.1</td>\n",
       "      <td>6</td>\n",
       "      <td>42</td>\n",
       "      <td>6</td>\n",
       "      <td>Overweight</td>\n",
       "      <td>126/83</td>\n",
       "      <td>77</td>\n",
       "      <td>4200</td>\n",
       "      <td>None</td>\n",
       "    </tr>\n",
       "    <tr>\n",
       "      <th>1</th>\n",
       "      <td>Male</td>\n",
       "      <td>28</td>\n",
       "      <td>Doctor</td>\n",
       "      <td>6.2</td>\n",
       "      <td>6</td>\n",
       "      <td>60</td>\n",
       "      <td>8</td>\n",
       "      <td>Normal</td>\n",
       "      <td>125/80</td>\n",
       "      <td>75</td>\n",
       "      <td>10000</td>\n",
       "      <td>None</td>\n",
       "    </tr>\n",
       "    <tr>\n",
       "      <th>2</th>\n",
       "      <td>Male</td>\n",
       "      <td>28</td>\n",
       "      <td>Doctor</td>\n",
       "      <td>6.2</td>\n",
       "      <td>6</td>\n",
       "      <td>60</td>\n",
       "      <td>8</td>\n",
       "      <td>Normal</td>\n",
       "      <td>125/80</td>\n",
       "      <td>75</td>\n",
       "      <td>10000</td>\n",
       "      <td>None</td>\n",
       "    </tr>\n",
       "    <tr>\n",
       "      <th>3</th>\n",
       "      <td>Male</td>\n",
       "      <td>28</td>\n",
       "      <td>Sales Representative</td>\n",
       "      <td>5.9</td>\n",
       "      <td>4</td>\n",
       "      <td>30</td>\n",
       "      <td>8</td>\n",
       "      <td>Obese</td>\n",
       "      <td>140/90</td>\n",
       "      <td>85</td>\n",
       "      <td>3000</td>\n",
       "      <td>Sleep Apnea</td>\n",
       "    </tr>\n",
       "    <tr>\n",
       "      <th>4</th>\n",
       "      <td>Male</td>\n",
       "      <td>28</td>\n",
       "      <td>Sales Representative</td>\n",
       "      <td>5.9</td>\n",
       "      <td>4</td>\n",
       "      <td>30</td>\n",
       "      <td>8</td>\n",
       "      <td>Obese</td>\n",
       "      <td>140/90</td>\n",
       "      <td>85</td>\n",
       "      <td>3000</td>\n",
       "      <td>Sleep Apnea</td>\n",
       "    </tr>\n",
       "  </tbody>\n",
       "</table>\n",
       "</div>"
      ],
      "text/plain": [
       "  Gender  Age            Occupation  Sleep Duration  Quality of Sleep  \\\n",
       "0   Male   27     Software Engineer             6.1                 6   \n",
       "1   Male   28                Doctor             6.2                 6   \n",
       "2   Male   28                Doctor             6.2                 6   \n",
       "3   Male   28  Sales Representative             5.9                 4   \n",
       "4   Male   28  Sales Representative             5.9                 4   \n",
       "\n",
       "   Physical Activity Level  Stress Level BMI Category Blood Pressure  \\\n",
       "0                       42             6   Overweight         126/83   \n",
       "1                       60             8       Normal         125/80   \n",
       "2                       60             8       Normal         125/80   \n",
       "3                       30             8        Obese         140/90   \n",
       "4                       30             8        Obese         140/90   \n",
       "\n",
       "   Heart Rate  Daily Steps Sleep Disorder  \n",
       "0          77         4200           None  \n",
       "1          75        10000           None  \n",
       "2          75        10000           None  \n",
       "3          85         3000    Sleep Apnea  \n",
       "4          85         3000    Sleep Apnea  "
      ]
     },
     "execution_count": 10,
     "metadata": {},
     "output_type": "execute_result"
    }
   ],
   "source": [
    "df.head()"
   ]
  },
  {
   "cell_type": "code",
   "execution_count": 11,
   "id": "ac1c7add-4202-4a8c-8a2a-7b594acb8876",
   "metadata": {},
   "outputs": [
    {
     "name": "stdout",
     "output_type": "stream",
     "text": [
      "<class 'pandas.core.frame.DataFrame'>\n",
      "RangeIndex: 374 entries, 0 to 373\n",
      "Data columns (total 12 columns):\n",
      " #   Column                   Non-Null Count  Dtype  \n",
      "---  ------                   --------------  -----  \n",
      " 0   Gender                   374 non-null    object \n",
      " 1   Age                      374 non-null    int64  \n",
      " 2   Occupation               374 non-null    object \n",
      " 3   Sleep Duration           374 non-null    float64\n",
      " 4   Quality of Sleep         374 non-null    int64  \n",
      " 5   Physical Activity Level  374 non-null    int64  \n",
      " 6   Stress Level             374 non-null    int64  \n",
      " 7   BMI Category             374 non-null    object \n",
      " 8   Blood Pressure           374 non-null    object \n",
      " 9   Heart Rate               374 non-null    int64  \n",
      " 10  Daily Steps              374 non-null    int64  \n",
      " 11  Sleep Disorder           374 non-null    object \n",
      "dtypes: float64(1), int64(6), object(5)\n",
      "memory usage: 35.2+ KB\n"
     ]
    }
   ],
   "source": [
    "df.info()"
   ]
  },
  {
   "cell_type": "code",
   "execution_count": 12,
   "id": "a312f95c-51af-4e72-9cd5-f82127c3565d",
   "metadata": {},
   "outputs": [],
   "source": [
    "df[['Systolic Pressure', 'Diastolic Pressure']] = df['Blood Pressure'].str.split('/', expand = True).astype(int)"
   ]
  },
  {
   "cell_type": "code",
   "execution_count": 13,
   "id": "de816f17-e484-49c8-bb13-96cfb8d52def",
   "metadata": {},
   "outputs": [],
   "source": [
    "df.drop('Blood Pressure', axis = 1, inplace = True)"
   ]
  },
  {
   "cell_type": "code",
   "execution_count": 14,
   "id": "6cb9dc31-062c-4e84-98e3-87252523a99d",
   "metadata": {},
   "outputs": [
    {
     "name": "stdout",
     "output_type": "stream",
     "text": [
      "<class 'pandas.core.frame.DataFrame'>\n",
      "RangeIndex: 374 entries, 0 to 373\n",
      "Data columns (total 13 columns):\n",
      " #   Column                   Non-Null Count  Dtype  \n",
      "---  ------                   --------------  -----  \n",
      " 0   Gender                   374 non-null    object \n",
      " 1   Age                      374 non-null    int64  \n",
      " 2   Occupation               374 non-null    object \n",
      " 3   Sleep Duration           374 non-null    float64\n",
      " 4   Quality of Sleep         374 non-null    int64  \n",
      " 5   Physical Activity Level  374 non-null    int64  \n",
      " 6   Stress Level             374 non-null    int64  \n",
      " 7   BMI Category             374 non-null    object \n",
      " 8   Heart Rate               374 non-null    int64  \n",
      " 9   Daily Steps              374 non-null    int64  \n",
      " 10  Sleep Disorder           374 non-null    object \n",
      " 11  Systolic Pressure        374 non-null    int32  \n",
      " 12  Diastolic Pressure       374 non-null    int32  \n",
      "dtypes: float64(1), int32(2), int64(6), object(4)\n",
      "memory usage: 35.2+ KB\n"
     ]
    }
   ],
   "source": [
    "df.info()"
   ]
  },
  {
   "cell_type": "code",
   "execution_count": 15,
   "id": "9a7ecf66-c862-4ca7-9878-eacbb0083e44",
   "metadata": {},
   "outputs": [],
   "source": [
    "# Handling Categoical Variable Occupation"
   ]
  },
  {
   "cell_type": "code",
   "execution_count": 16,
   "id": "b17e5666-842a-49fe-b3ca-6e9df4e50b5d",
   "metadata": {},
   "outputs": [
    {
     "data": {
      "text/plain": [
       "Occupation\n",
       "Nurse                   73\n",
       "Doctor                  71\n",
       "Engineer                63\n",
       "Lawyer                  47\n",
       "Teacher                 40\n",
       "Accountant              37\n",
       "Salesperson             32\n",
       "Software Engineer        4\n",
       "Scientist                4\n",
       "Sales Representative     2\n",
       "Manager                  1\n",
       "Name: count, dtype: int64"
      ]
     },
     "execution_count": 16,
     "metadata": {},
     "output_type": "execute_result"
    }
   ],
   "source": [
    "df['Occupation'].value_counts()"
   ]
  },
  {
   "cell_type": "code",
   "execution_count": 17,
   "id": "f1f93d7f-a4a9-467d-b10b-bfd7295b6385",
   "metadata": {},
   "outputs": [],
   "source": [
    "counts = df['Occupation'].value_counts()\n",
    "threshold = 30\n",
    "repl = counts[counts<=threshold].index\n",
    "df['Occupation'] = df['Occupation'].replace(repl, 'others')"
   ]
  },
  {
   "cell_type": "code",
   "execution_count": 18,
   "id": "bf82726b-8512-4be4-b4ae-13ca865559b7",
   "metadata": {},
   "outputs": [],
   "source": [
    "# df = pd.concat([df, new_df], axis=1)"
   ]
  },
  {
   "cell_type": "code",
   "execution_count": 19,
   "id": "b7028b92-2b2a-4441-ba06-caceba4541da",
   "metadata": {},
   "outputs": [
    {
     "data": {
      "text/html": [
       "<div>\n",
       "<style scoped>\n",
       "    .dataframe tbody tr th:only-of-type {\n",
       "        vertical-align: middle;\n",
       "    }\n",
       "\n",
       "    .dataframe tbody tr th {\n",
       "        vertical-align: top;\n",
       "    }\n",
       "\n",
       "    .dataframe thead th {\n",
       "        text-align: right;\n",
       "    }\n",
       "</style>\n",
       "<table border=\"1\" class=\"dataframe\">\n",
       "  <thead>\n",
       "    <tr style=\"text-align: right;\">\n",
       "      <th></th>\n",
       "      <th>Gender</th>\n",
       "      <th>Age</th>\n",
       "      <th>Occupation</th>\n",
       "      <th>Sleep Duration</th>\n",
       "      <th>Quality of Sleep</th>\n",
       "      <th>Physical Activity Level</th>\n",
       "      <th>Stress Level</th>\n",
       "      <th>BMI Category</th>\n",
       "      <th>Heart Rate</th>\n",
       "      <th>Daily Steps</th>\n",
       "      <th>Sleep Disorder</th>\n",
       "      <th>Systolic Pressure</th>\n",
       "      <th>Diastolic Pressure</th>\n",
       "    </tr>\n",
       "  </thead>\n",
       "  <tbody>\n",
       "    <tr>\n",
       "      <th>0</th>\n",
       "      <td>Male</td>\n",
       "      <td>27</td>\n",
       "      <td>others</td>\n",
       "      <td>6.1</td>\n",
       "      <td>6</td>\n",
       "      <td>42</td>\n",
       "      <td>6</td>\n",
       "      <td>Overweight</td>\n",
       "      <td>77</td>\n",
       "      <td>4200</td>\n",
       "      <td>None</td>\n",
       "      <td>126</td>\n",
       "      <td>83</td>\n",
       "    </tr>\n",
       "    <tr>\n",
       "      <th>1</th>\n",
       "      <td>Male</td>\n",
       "      <td>28</td>\n",
       "      <td>Doctor</td>\n",
       "      <td>6.2</td>\n",
       "      <td>6</td>\n",
       "      <td>60</td>\n",
       "      <td>8</td>\n",
       "      <td>Normal</td>\n",
       "      <td>75</td>\n",
       "      <td>10000</td>\n",
       "      <td>None</td>\n",
       "      <td>125</td>\n",
       "      <td>80</td>\n",
       "    </tr>\n",
       "    <tr>\n",
       "      <th>2</th>\n",
       "      <td>Male</td>\n",
       "      <td>28</td>\n",
       "      <td>Doctor</td>\n",
       "      <td>6.2</td>\n",
       "      <td>6</td>\n",
       "      <td>60</td>\n",
       "      <td>8</td>\n",
       "      <td>Normal</td>\n",
       "      <td>75</td>\n",
       "      <td>10000</td>\n",
       "      <td>None</td>\n",
       "      <td>125</td>\n",
       "      <td>80</td>\n",
       "    </tr>\n",
       "    <tr>\n",
       "      <th>3</th>\n",
       "      <td>Male</td>\n",
       "      <td>28</td>\n",
       "      <td>others</td>\n",
       "      <td>5.9</td>\n",
       "      <td>4</td>\n",
       "      <td>30</td>\n",
       "      <td>8</td>\n",
       "      <td>Obese</td>\n",
       "      <td>85</td>\n",
       "      <td>3000</td>\n",
       "      <td>Sleep Apnea</td>\n",
       "      <td>140</td>\n",
       "      <td>90</td>\n",
       "    </tr>\n",
       "    <tr>\n",
       "      <th>4</th>\n",
       "      <td>Male</td>\n",
       "      <td>28</td>\n",
       "      <td>others</td>\n",
       "      <td>5.9</td>\n",
       "      <td>4</td>\n",
       "      <td>30</td>\n",
       "      <td>8</td>\n",
       "      <td>Obese</td>\n",
       "      <td>85</td>\n",
       "      <td>3000</td>\n",
       "      <td>Sleep Apnea</td>\n",
       "      <td>140</td>\n",
       "      <td>90</td>\n",
       "    </tr>\n",
       "  </tbody>\n",
       "</table>\n",
       "</div>"
      ],
      "text/plain": [
       "  Gender  Age Occupation  Sleep Duration  Quality of Sleep  \\\n",
       "0   Male   27     others             6.1                 6   \n",
       "1   Male   28     Doctor             6.2                 6   \n",
       "2   Male   28     Doctor             6.2                 6   \n",
       "3   Male   28     others             5.9                 4   \n",
       "4   Male   28     others             5.9                 4   \n",
       "\n",
       "   Physical Activity Level  Stress Level BMI Category  Heart Rate  \\\n",
       "0                       42             6   Overweight          77   \n",
       "1                       60             8       Normal          75   \n",
       "2                       60             8       Normal          75   \n",
       "3                       30             8        Obese          85   \n",
       "4                       30             8        Obese          85   \n",
       "\n",
       "   Daily Steps Sleep Disorder  Systolic Pressure  Diastolic Pressure  \n",
       "0         4200           None                126                  83  \n",
       "1        10000           None                125                  80  \n",
       "2        10000           None                125                  80  \n",
       "3         3000    Sleep Apnea                140                  90  \n",
       "4         3000    Sleep Apnea                140                  90  "
      ]
     },
     "execution_count": 19,
     "metadata": {},
     "output_type": "execute_result"
    }
   ],
   "source": [
    "df.head()"
   ]
  },
  {
   "cell_type": "code",
   "execution_count": 20,
   "id": "b6fd0d55-adef-4e0d-8765-3331a030ef89",
   "metadata": {},
   "outputs": [],
   "source": [
    "# df.drop('Occupation', axis=1, inplace=True)"
   ]
  },
  {
   "cell_type": "code",
   "execution_count": 21,
   "id": "a3540569-ae42-45ec-89ec-41e48981caca",
   "metadata": {},
   "outputs": [
    {
     "data": {
      "text/plain": [
       "BMI Category\n",
       "Normal           195\n",
       "Overweight       148\n",
       "Normal Weight     21\n",
       "Obese             10\n",
       "Name: count, dtype: int64"
      ]
     },
     "execution_count": 21,
     "metadata": {},
     "output_type": "execute_result"
    }
   ],
   "source": [
    "df['BMI Category'].value_counts()"
   ]
  },
  {
   "cell_type": "markdown",
   "id": "886098e9-230f-4077-92e6-a2e60769ba6b",
   "metadata": {},
   "source": [
    "Here 'Normal weight' and 'Normal' both are same so we can replace 'normal weight' with 'Normal' and make it one category"
   ]
  },
  {
   "cell_type": "code",
   "execution_count": 22,
   "id": "796ddca1-902e-441c-99da-3c895008bb18",
   "metadata": {},
   "outputs": [],
   "source": [
    "df['BMI Category'] = df['BMI Category'].replace('Normal Weight', 'Normal')"
   ]
  },
  {
   "cell_type": "code",
   "execution_count": 23,
   "id": "0b448194-a24d-403a-ac15-3048d20da925",
   "metadata": {},
   "outputs": [
    {
     "data": {
      "text/html": [
       "<div>\n",
       "<style scoped>\n",
       "    .dataframe tbody tr th:only-of-type {\n",
       "        vertical-align: middle;\n",
       "    }\n",
       "\n",
       "    .dataframe tbody tr th {\n",
       "        vertical-align: top;\n",
       "    }\n",
       "\n",
       "    .dataframe thead th {\n",
       "        text-align: right;\n",
       "    }\n",
       "</style>\n",
       "<table border=\"1\" class=\"dataframe\">\n",
       "  <thead>\n",
       "    <tr style=\"text-align: right;\">\n",
       "      <th></th>\n",
       "      <th>Gender</th>\n",
       "      <th>Age</th>\n",
       "      <th>Occupation</th>\n",
       "      <th>Sleep Duration</th>\n",
       "      <th>Quality of Sleep</th>\n",
       "      <th>Physical Activity Level</th>\n",
       "      <th>Stress Level</th>\n",
       "      <th>BMI Category</th>\n",
       "      <th>Heart Rate</th>\n",
       "      <th>Daily Steps</th>\n",
       "      <th>Sleep Disorder</th>\n",
       "      <th>Systolic Pressure</th>\n",
       "      <th>Diastolic Pressure</th>\n",
       "    </tr>\n",
       "  </thead>\n",
       "  <tbody>\n",
       "    <tr>\n",
       "      <th>17</th>\n",
       "      <td>Male</td>\n",
       "      <td>29</td>\n",
       "      <td>Doctor</td>\n",
       "      <td>6.0</td>\n",
       "      <td>6</td>\n",
       "      <td>30</td>\n",
       "      <td>8</td>\n",
       "      <td>Normal</td>\n",
       "      <td>70</td>\n",
       "      <td>8000</td>\n",
       "      <td>Sleep Apnea</td>\n",
       "      <td>120</td>\n",
       "      <td>80</td>\n",
       "    </tr>\n",
       "    <tr>\n",
       "      <th>112</th>\n",
       "      <td>Female</td>\n",
       "      <td>37</td>\n",
       "      <td>Accountant</td>\n",
       "      <td>7.2</td>\n",
       "      <td>8</td>\n",
       "      <td>60</td>\n",
       "      <td>4</td>\n",
       "      <td>Normal</td>\n",
       "      <td>68</td>\n",
       "      <td>7000</td>\n",
       "      <td>None</td>\n",
       "      <td>115</td>\n",
       "      <td>75</td>\n",
       "    </tr>\n",
       "    <tr>\n",
       "      <th>173</th>\n",
       "      <td>Male</td>\n",
       "      <td>41</td>\n",
       "      <td>Lawyer</td>\n",
       "      <td>7.7</td>\n",
       "      <td>8</td>\n",
       "      <td>90</td>\n",
       "      <td>5</td>\n",
       "      <td>Normal</td>\n",
       "      <td>70</td>\n",
       "      <td>8000</td>\n",
       "      <td>None</td>\n",
       "      <td>130</td>\n",
       "      <td>85</td>\n",
       "    </tr>\n",
       "    <tr>\n",
       "      <th>2</th>\n",
       "      <td>Male</td>\n",
       "      <td>28</td>\n",
       "      <td>Doctor</td>\n",
       "      <td>6.2</td>\n",
       "      <td>6</td>\n",
       "      <td>60</td>\n",
       "      <td>8</td>\n",
       "      <td>Normal</td>\n",
       "      <td>75</td>\n",
       "      <td>10000</td>\n",
       "      <td>None</td>\n",
       "      <td>125</td>\n",
       "      <td>80</td>\n",
       "    </tr>\n",
       "    <tr>\n",
       "      <th>208</th>\n",
       "      <td>Male</td>\n",
       "      <td>43</td>\n",
       "      <td>Engineer</td>\n",
       "      <td>7.7</td>\n",
       "      <td>8</td>\n",
       "      <td>90</td>\n",
       "      <td>5</td>\n",
       "      <td>Normal</td>\n",
       "      <td>70</td>\n",
       "      <td>8000</td>\n",
       "      <td>None</td>\n",
       "      <td>130</td>\n",
       "      <td>85</td>\n",
       "    </tr>\n",
       "  </tbody>\n",
       "</table>\n",
       "</div>"
      ],
      "text/plain": [
       "     Gender  Age  Occupation  Sleep Duration  Quality of Sleep  \\\n",
       "17     Male   29      Doctor             6.0                 6   \n",
       "112  Female   37  Accountant             7.2                 8   \n",
       "173    Male   41      Lawyer             7.7                 8   \n",
       "2      Male   28      Doctor             6.2                 6   \n",
       "208    Male   43    Engineer             7.7                 8   \n",
       "\n",
       "     Physical Activity Level  Stress Level BMI Category  Heart Rate  \\\n",
       "17                        30             8       Normal          70   \n",
       "112                       60             4       Normal          68   \n",
       "173                       90             5       Normal          70   \n",
       "2                         60             8       Normal          75   \n",
       "208                       90             5       Normal          70   \n",
       "\n",
       "     Daily Steps Sleep Disorder  Systolic Pressure  Diastolic Pressure  \n",
       "17          8000    Sleep Apnea                120                  80  \n",
       "112         7000           None                115                  75  \n",
       "173         8000           None                130                  85  \n",
       "2          10000           None                125                  80  \n",
       "208         8000           None                130                  85  "
      ]
     },
     "execution_count": 23,
     "metadata": {},
     "output_type": "execute_result"
    }
   ],
   "source": [
    "df.sample(5)"
   ]
  },
  {
   "cell_type": "code",
   "execution_count": 24,
   "id": "5cc759f7-7160-4daa-bf15-3d8fd36bb999",
   "metadata": {},
   "outputs": [],
   "source": [
    "# Exploratory data analysis"
   ]
  },
  {
   "cell_type": "code",
   "execution_count": 25,
   "id": "677a4f37-74bd-469d-8819-802973941a12",
   "metadata": {},
   "outputs": [
    {
     "data": {
      "text/plain": [
       "<seaborn.axisgrid.FacetGrid at 0x2b0717a7700>"
      ]
     },
     "execution_count": 25,
     "metadata": {},
     "output_type": "execute_result"
    },
    {
     "data": {
      "image/png": "[encoded data removed]",
      "text/plain": [
       "<Figure size 360x360 with 1 Axes>"
      ]
     },
     "metadata": {
      "needs_background": "light"
     },
     "output_type": "display_data"
    }
   ],
   "source": [
    "# plotting Distribution of Age\n",
    "sns.displot(df['Age'], kind = 'kde')"
   ]
  },
  {
   "cell_type": "code",
   "execution_count": 26,
   "id": "f2257337-72e1-4218-b9dc-2721f014d321",
   "metadata": {},
   "outputs": [
    {
     "data": {
      "text/plain": [
       "<seaborn.axisgrid.FacetGrid at 0x2b073891e50>"
      ]
     },
     "execution_count": 26,
     "metadata": {},
     "output_type": "execute_result"
    },
    {
     "data": {
      "image/png": "[encoded data removed]",
      "text/plain": [
       "<Figure size 360x360 with 1 Axes>"
      ]
     },
     "metadata": {
      "needs_background": "light"
     },
     "output_type": "display_data"
    }
   ],
   "source": [
    "sns.displot(df['Quality of Sleep'], kind = 'kde')"
   ]
  },
  {
   "cell_type": "code",
   "execution_count": 27,
   "id": "6b48c37a-435f-4a83-9459-9fae457c50ff",
   "metadata": {},
   "outputs": [
    {
     "data": {
      "text/plain": [
       "<Axes: xlabel='Gender', ylabel='Age'>"
      ]
     },
     "execution_count": 27,
     "metadata": {},
     "output_type": "execute_result"
    },
    {
     "data": {
      "image/png": "[encoded data removed]",
      "text/plain": [
       "<Figure size 432x288 with 1 Axes>"
      ]
     },
     "metadata": {
      "needs_background": "light"
     },
     "output_type": "display_data"
    }
   ],
   "source": [
    "sns.barplot(x = df['Gender'], y = df['Age'], color = 'red')"
   ]
  },
  {
   "cell_type": "code",
   "execution_count": 28,
   "id": "640ef6e2-41b9-43ae-ab54-fde4a1b56e2c",
   "metadata": {},
   "outputs": [
    {
     "data": {
      "image/png": "[encoded data removed]",
      "text/plain": [
       "<Figure size 576x504 with 1 Axes>"
      ]
     },
     "metadata": {
      "needs_background": "light"
     },
     "output_type": "display_data"
    }
   ],
   "source": [
    "plt.figure(figsize = (8,7))\n",
    "sns.barplot(x = df['Occupation'], y=df['Quality of Sleep'])\n",
    "plt.show()"
   ]
  },
  {
   "cell_type": "code",
   "execution_count": 29,
   "id": "ccef20b8-f9c2-4dd7-a3be-8e0a618ee600",
   "metadata": {},
   "outputs": [
    {
     "name": "stderr",
     "output_type": "stream",
     "text": [
      "C:\\Users\\amits\\AppData\\Local\\Temp/ipykernel_21572/2402595778.py:1: FutureWarning: \n",
      "\n",
      "Setting a gradient palette using color= is deprecated and will be removed in v0.14.0. Set `palette='dark:red'` for the same effect.\n",
      "\n",
      "  sns.barplot(y = df['Sleep Duration'], x=df['Sleep Disorder'], color = 'red', hue =df['Gender'])\n",
      "C:\\Users\\amits\\anaconda3\\lib\\site-packages\\seaborn\\_base.py:948: FutureWarning: When grouping with a length-1 list-like, you will need to pass a length-1 tuple to get_group in a future version of pandas. Pass `(name,)` instead of `name` to silence this warning.\n",
      "  data_subset = grouped_data.get_group(pd_key)\n",
      "C:\\Users\\amits\\anaconda3\\lib\\site-packages\\seaborn\\_base.py:948: FutureWarning: When grouping with a length-1 list-like, you will need to pass a length-1 tuple to get_group in a future version of pandas. Pass `(name,)` instead of `name` to silence this warning.\n",
      "  data_subset = grouped_data.get_group(pd_key)\n"
     ]
    },
    {
     "data": {
      "image/png": "[encoded data removed]",
      "text/plain": [
       "<Figure size 432x288 with 1 Axes>"
      ]
     },
     "metadata": {
      "needs_background": "light"
     },
     "output_type": "display_data"
    }
   ],
   "source": [
    "sns.barplot(y = df['Sleep Duration'], x=df['Sleep Disorder'], color = 'red', hue =df['Gender'])\n",
    "plt.show()"
   ]
  },
  {
   "cell_type": "markdown",
   "id": "451a8261-5ab4-4ace-bd0c-4ea59c5372d9",
   "metadata": {},
   "source": [
    "We can see there is no such impact "
   ]
  },
  {
   "cell_type": "code",
   "execution_count": 30,
   "id": "17171cbe-0175-4d06-8cb4-dbb75feb0a83",
   "metadata": {},
   "outputs": [
    {
     "name": "stderr",
     "output_type": "stream",
     "text": [
      "C:\\Users\\amits\\anaconda3\\lib\\site-packages\\seaborn\\_base.py:948: FutureWarning: When grouping with a length-1 list-like, you will need to pass a length-1 tuple to get_group in a future version of pandas. Pass `(name,)` instead of `name` to silence this warning.\n",
      "  data_subset = grouped_data.get_group(pd_key)\n",
      "C:\\Users\\amits\\anaconda3\\lib\\site-packages\\seaborn\\_base.py:948: FutureWarning: When grouping with a length-1 list-like, you will need to pass a length-1 tuple to get_group in a future version of pandas. Pass `(name,)` instead of `name` to silence this warning.\n",
      "  data_subset = grouped_data.get_group(pd_key)\n"
     ]
    },
    {
     "data": {
      "text/plain": [
       "<Axes: xlabel='Sleep Disorder', ylabel='Age'>"
      ]
     },
     "execution_count": 30,
     "metadata": {},
     "output_type": "execute_result"
    },
    {
     "data": {
      "image/png": "[encoded data removed]",
      "text/plain": [
       "<Figure size 432x288 with 1 Axes>"
      ]
     },
     "metadata": {
      "needs_background": "light"
     },
     "output_type": "display_data"
    }
   ],
   "source": [
    "sns.barplot(x =df['Sleep Disorder'], y=df['Age'], hue =df['Gender'])"
   ]
  },
  {
   "cell_type": "markdown",
   "id": "05b6d672-7cc2-4961-8e14-9b3774ce0a24",
   "metadata": {},
   "source": [
    "We can observe Females who have more age are more likely to have sleep disorder than males"
   ]
  },
  {
   "cell_type": "code",
   "execution_count": 31,
   "id": "1b414a75-04ea-4df5-bcfa-ba0132752918",
   "metadata": {},
   "outputs": [
    {
     "name": "stderr",
     "output_type": "stream",
     "text": [
      "C:\\Users\\amits\\anaconda3\\lib\\site-packages\\seaborn\\_base.py:948: FutureWarning: When grouping with a length-1 list-like, you will need to pass a length-1 tuple to get_group in a future version of pandas. Pass `(name,)` instead of `name` to silence this warning.\n",
      "  data_subset = grouped_data.get_group(pd_key)\n",
      "C:\\Users\\amits\\anaconda3\\lib\\site-packages\\seaborn\\_base.py:948: FutureWarning: When grouping with a length-1 list-like, you will need to pass a length-1 tuple to get_group in a future version of pandas. Pass `(name,)` instead of `name` to silence this warning.\n",
      "  data_subset = grouped_data.get_group(pd_key)\n",
      "C:\\Users\\amits\\anaconda3\\lib\\site-packages\\seaborn\\_base.py:948: FutureWarning: When grouping with a length-1 list-like, you will need to pass a length-1 tuple to get_group in a future version of pandas. Pass `(name,)` instead of `name` to silence this warning.\n",
      "  data_subset = grouped_data.get_group(pd_key)\n",
      "C:\\Users\\amits\\anaconda3\\lib\\site-packages\\seaborn\\_base.py:948: FutureWarning: When grouping with a length-1 list-like, you will need to pass a length-1 tuple to get_group in a future version of pandas. Pass `(name,)` instead of `name` to silence this warning.\n",
      "  data_subset = grouped_data.get_group(pd_key)\n",
      "C:\\Users\\amits\\anaconda3\\lib\\site-packages\\seaborn\\_base.py:948: FutureWarning: When grouping with a length-1 list-like, you will need to pass a length-1 tuple to get_group in a future version of pandas. Pass `(name,)` instead of `name` to silence this warning.\n",
      "  data_subset = grouped_data.get_group(pd_key)\n",
      "C:\\Users\\amits\\anaconda3\\lib\\site-packages\\seaborn\\_base.py:948: FutureWarning: When grouping with a length-1 list-like, you will need to pass a length-1 tuple to get_group in a future version of pandas. Pass `(name,)` instead of `name` to silence this warning.\n",
      "  data_subset = grouped_data.get_group(pd_key)\n",
      "C:\\Users\\amits\\anaconda3\\lib\\site-packages\\seaborn\\_base.py:948: FutureWarning: When grouping with a length-1 list-like, you will need to pass a length-1 tuple to get_group in a future version of pandas. Pass `(name,)` instead of `name` to silence this warning.\n",
      "  data_subset = grouped_data.get_group(pd_key)\n",
      "C:\\Users\\amits\\anaconda3\\lib\\site-packages\\seaborn\\_base.py:948: FutureWarning: When grouping with a length-1 list-like, you will need to pass a length-1 tuple to get_group in a future version of pandas. Pass `(name,)` instead of `name` to silence this warning.\n",
      "  data_subset = grouped_data.get_group(pd_key)\n"
     ]
    },
    {
     "data": {
      "text/plain": [
       "<Axes: xlabel='Sleep Disorder', ylabel='count'>"
      ]
     },
     "execution_count": 31,
     "metadata": {},
     "output_type": "execute_result"
    },
    {
     "data": {
      "image/png": "[encoded data removed]",
      "text/plain": [
       "<Figure size 720x504 with 1 Axes>"
      ]
     },
     "metadata": {
      "needs_background": "light"
     },
     "output_type": "display_data"
    }
   ],
   "source": [
    "plt.figure(figsize = (10,7))\n",
    "sns.countplot(x =df['Sleep Disorder'], hue =df['Occupation'])"
   ]
  },
  {
   "cell_type": "markdown",
   "id": "d35e1a03-08fa-4913-bc07-7ef0dce71cda",
   "metadata": {},
   "source": [
    "We can observe from plot that high no. of Nurses are having Sleep apnea sleep disorder then salesperson are having insomania followed by teacher than rest of other categories, We can observe that occupation has great impact on sleep disorder"
   ]
  },
  {
   "cell_type": "code",
   "execution_count": 32,
   "id": "9b573c9d-7e3e-4afb-9a65-827e06417a2a",
   "metadata": {},
   "outputs": [
    {
     "name": "stderr",
     "output_type": "stream",
     "text": [
      "C:\\Users\\amits\\anaconda3\\lib\\site-packages\\seaborn\\_base.py:948: FutureWarning: When grouping with a length-1 list-like, you will need to pass a length-1 tuple to get_group in a future version of pandas. Pass `(name,)` instead of `name` to silence this warning.\n",
      "  data_subset = grouped_data.get_group(pd_key)\n",
      "C:\\Users\\amits\\anaconda3\\lib\\site-packages\\seaborn\\_base.py:948: FutureWarning: When grouping with a length-1 list-like, you will need to pass a length-1 tuple to get_group in a future version of pandas. Pass `(name,)` instead of `name` to silence this warning.\n",
      "  data_subset = grouped_data.get_group(pd_key)\n"
     ]
    },
    {
     "data": {
      "text/plain": [
       "<Axes: xlabel='Sleep Disorder', ylabel='Stress Level'>"
      ]
     },
     "execution_count": 32,
     "metadata": {},
     "output_type": "execute_result"
    },
    {
     "data": {
      "image/png": "[encoded data removed]",
      "text/plain": [
       "<Figure size 720x504 with 1 Axes>"
      ]
     },
     "metadata": {
      "needs_background": "light"
     },
     "output_type": "display_data"
    }
   ],
   "source": [
    "plt.figure(figsize = (10,7))\n",
    "sns.barplot(x =df['Sleep Disorder'], y = df['Stress Level'],hue =df['Gender'])"
   ]
  },
  {
   "cell_type": "markdown",
   "id": "b3ab474b-da76-4400-a8d0-86abdf3397e5",
   "metadata": {},
   "source": [
    "From above plot we can observe that 'Stress Level' has impact with 'Insomania' Specially for male category"
   ]
  },
  {
   "cell_type": "code",
   "execution_count": 33,
   "id": "e79e9aeb-858a-44c5-8ad4-7f7b66c3d090",
   "metadata": {},
   "outputs": [
    {
     "name": "stderr",
     "output_type": "stream",
     "text": [
      "C:\\Users\\amits\\anaconda3\\lib\\site-packages\\seaborn\\_base.py:948: FutureWarning: When grouping with a length-1 list-like, you will need to pass a length-1 tuple to get_group in a future version of pandas. Pass `(name,)` instead of `name` to silence this warning.\n",
      "  data_subset = grouped_data.get_group(pd_key)\n",
      "C:\\Users\\amits\\anaconda3\\lib\\site-packages\\seaborn\\_base.py:948: FutureWarning: When grouping with a length-1 list-like, you will need to pass a length-1 tuple to get_group in a future version of pandas. Pass `(name,)` instead of `name` to silence this warning.\n",
      "  data_subset = grouped_data.get_group(pd_key)\n",
      "C:\\Users\\amits\\anaconda3\\lib\\site-packages\\seaborn\\_base.py:948: FutureWarning: When grouping with a length-1 list-like, you will need to pass a length-1 tuple to get_group in a future version of pandas. Pass `(name,)` instead of `name` to silence this warning.\n",
      "  data_subset = grouped_data.get_group(pd_key)\n"
     ]
    },
    {
     "data": {
      "text/plain": [
       "<Axes: xlabel='Sleep Disorder', ylabel='count'>"
      ]
     },
     "execution_count": 33,
     "metadata": {},
     "output_type": "execute_result"
    },
    {
     "data": {
      "image/png": "[encoded data removed]",
      "text/plain": [
       "<Figure size 576x504 with 1 Axes>"
      ]
     },
     "metadata": {
      "needs_background": "light"
     },
     "output_type": "display_data"
    }
   ],
   "source": [
    "plt.figure(figsize = (8,7))\n",
    "sns.countplot( x = df['Sleep Disorder'], hue = df['BMI Category'])"
   ]
  },
  {
   "cell_type": "markdown",
   "id": "e969afb2-6d9a-45df-a3e6-1df58745f861",
   "metadata": {},
   "source": [
    "From above plot we can understand that BMI category has an impact on sleep disorder than other, overweight people have sleep disorder than normal and obese."
   ]
  },
  {
   "cell_type": "code",
   "execution_count": 34,
   "id": "4e997dcc-926c-4749-a507-f66f185012c1",
   "metadata": {},
   "outputs": [
    {
     "name": "stderr",
     "output_type": "stream",
     "text": [
      "C:\\Users\\amits\\AppData\\Local\\Temp/ipykernel_21572/2603537574.py:3: FutureWarning: \n",
      "\n",
      "Setting a gradient palette using color= is deprecated and will be removed in v0.14.0. Set `palette='dark:red'` for the same effect.\n",
      "\n",
      "  sns.stripplot(x = df['Quality of Sleep'], y = df['Age'], color = 'red', jitter = 0.2, hue = df['Gender'])\n",
      "C:\\Users\\amits\\anaconda3\\lib\\site-packages\\seaborn\\_base.py:948: FutureWarning: When grouping with a length-1 list-like, you will need to pass a length-1 tuple to get_group in a future version of pandas. Pass `(name,)` instead of `name` to silence this warning.\n",
      "  data_subset = grouped_data.get_group(pd_key)\n"
     ]
    },
    {
     "data": {
      "text/plain": [
       "<Axes: xlabel='Quality of Sleep', ylabel='Age'>"
      ]
     },
     "execution_count": 34,
     "metadata": {},
     "output_type": "execute_result"
    },
    {
     "data": {
      "image/png": "[encoded data removed]",
      "text/plain": [
       "<Figure size 576x504 with 1 Axes>"
      ]
     },
     "metadata": {
      "needs_background": "light"
     },
     "output_type": "display_data"
    }
   ],
   "source": [
    "# Plotting Scatterplot between Age and Quality of Sleep\n",
    "plt.figure(figsize = (8,7))\n",
    "sns.stripplot(x = df['Quality of Sleep'], y = df['Age'], color = 'red', jitter = 0.2, hue = df['Gender'])"
   ]
  },
  {
   "cell_type": "code",
   "execution_count": 35,
   "id": "6fa46b05-70a9-45f2-823e-d4487f7c9c40",
   "metadata": {},
   "outputs": [
    {
     "data": {
      "text/plain": [
       "<Axes: xlabel='Sleep Disorder'>"
      ]
     },
     "execution_count": 35,
     "metadata": {},
     "output_type": "execute_result"
    },
    {
     "data": {
      "image/png": "[encoded data removed]",
      "text/plain": [
       "<Figure size 432x288 with 1 Axes>"
      ]
     },
     "metadata": {
      "needs_background": "light"
     },
     "output_type": "display_data"
    }
   ],
   "source": [
    "df.groupby('Sleep Disorder')['Heart Rate'].mean().sort_values(ascending = True).plot(kind = 'bar', color = 'red')"
   ]
  },
  {
   "cell_type": "code",
   "execution_count": 36,
   "id": "3fa925bd-f32c-4f22-9a8b-f380b706e4ea",
   "metadata": {},
   "outputs": [],
   "source": [
    "# Feature Engineering Using ordinal Encoder, One Hot Encoder, Label Encoder"
   ]
  },
  {
   "cell_type": "code",
   "execution_count": 37,
   "id": "1f33446d-565d-4d73-a1e4-223ccfe2d405",
   "metadata": {},
   "outputs": [],
   "source": [
    "from sklearn.model_selection import train_test_split\n",
    "from sklearn.preprocessing import OrdinalEncoder, LabelEncoder, OneHotEncoder\n",
    "# import column transformer\n",
    "from sklearn.compose import ColumnTransformer"
   ]
  },
  {
   "cell_type": "code",
   "execution_count": 38,
   "id": "2d7382b7-4df1-4b5d-adb9-396471a2e430",
   "metadata": {},
   "outputs": [],
   "source": [
    "y = df['Sleep Disorder']"
   ]
  },
  {
   "cell_type": "code",
   "execution_count": 39,
   "id": "a36e55d1-69e9-4878-8fdf-20df125a6191",
   "metadata": {},
   "outputs": [],
   "source": [
    "x = df.drop('Sleep Disorder', axis=1)"
   ]
  },
  {
   "cell_type": "code",
   "execution_count": 40,
   "id": "371cd854-5d9c-4e41-86ac-0048786848e7",
   "metadata": {},
   "outputs": [],
   "source": [
    "x_train,x_test,y_train,y_test = train_test_split(x,y, test_size = 0.3, random_state = 10)"
   ]
  },
  {
   "cell_type": "code",
   "execution_count": 41,
   "id": "3c72475a-52c9-4cee-9bd1-1211de1d75dc",
   "metadata": {},
   "outputs": [],
   "source": [
    "le = LabelEncoder()\n",
    "y_train = le.fit_transform(y_train)\n",
    "y_test = le.transform(y_test)"
   ]
  },
  {
   "cell_type": "code",
   "execution_count": 42,
   "id": "89b5b199-6419-4419-8f5f-ec11aba9c791",
   "metadata": {},
   "outputs": [
    {
     "data": {
      "text/html": [
       "<div>\n",
       "<style scoped>\n",
       "    .dataframe tbody tr th:only-of-type {\n",
       "        vertical-align: middle;\n",
       "    }\n",
       "\n",
       "    .dataframe tbody tr th {\n",
       "        vertical-align: top;\n",
       "    }\n",
       "\n",
       "    .dataframe thead th {\n",
       "        text-align: right;\n",
       "    }\n",
       "</style>\n",
       "<table border=\"1\" class=\"dataframe\">\n",
       "  <thead>\n",
       "    <tr style=\"text-align: right;\">\n",
       "      <th></th>\n",
       "      <th>Gender</th>\n",
       "      <th>Age</th>\n",
       "      <th>Occupation</th>\n",
       "      <th>Sleep Duration</th>\n",
       "      <th>Quality of Sleep</th>\n",
       "      <th>Physical Activity Level</th>\n",
       "      <th>Stress Level</th>\n",
       "      <th>BMI Category</th>\n",
       "      <th>Heart Rate</th>\n",
       "      <th>Daily Steps</th>\n",
       "      <th>Systolic Pressure</th>\n",
       "      <th>Diastolic Pressure</th>\n",
       "    </tr>\n",
       "  </thead>\n",
       "  <tbody>\n",
       "    <tr>\n",
       "      <th>195</th>\n",
       "      <td>Male</td>\n",
       "      <td>43</td>\n",
       "      <td>Salesperson</td>\n",
       "      <td>6.5</td>\n",
       "      <td>6</td>\n",
       "      <td>45</td>\n",
       "      <td>7</td>\n",
       "      <td>Overweight</td>\n",
       "      <td>72</td>\n",
       "      <td>6000</td>\n",
       "      <td>130</td>\n",
       "      <td>85</td>\n",
       "    </tr>\n",
       "    <tr>\n",
       "      <th>215</th>\n",
       "      <td>Male</td>\n",
       "      <td>43</td>\n",
       "      <td>Engineer</td>\n",
       "      <td>7.8</td>\n",
       "      <td>8</td>\n",
       "      <td>90</td>\n",
       "      <td>5</td>\n",
       "      <td>Normal</td>\n",
       "      <td>70</td>\n",
       "      <td>8000</td>\n",
       "      <td>130</td>\n",
       "      <td>85</td>\n",
       "    </tr>\n",
       "    <tr>\n",
       "      <th>36</th>\n",
       "      <td>Male</td>\n",
       "      <td>31</td>\n",
       "      <td>Doctor</td>\n",
       "      <td>6.1</td>\n",
       "      <td>6</td>\n",
       "      <td>30</td>\n",
       "      <td>8</td>\n",
       "      <td>Normal</td>\n",
       "      <td>72</td>\n",
       "      <td>5000</td>\n",
       "      <td>125</td>\n",
       "      <td>80</td>\n",
       "    </tr>\n",
       "    <tr>\n",
       "      <th>10</th>\n",
       "      <td>Male</td>\n",
       "      <td>29</td>\n",
       "      <td>Doctor</td>\n",
       "      <td>6.1</td>\n",
       "      <td>6</td>\n",
       "      <td>30</td>\n",
       "      <td>8</td>\n",
       "      <td>Normal</td>\n",
       "      <td>70</td>\n",
       "      <td>8000</td>\n",
       "      <td>120</td>\n",
       "      <td>80</td>\n",
       "    </tr>\n",
       "    <tr>\n",
       "      <th>61</th>\n",
       "      <td>Male</td>\n",
       "      <td>32</td>\n",
       "      <td>Doctor</td>\n",
       "      <td>6.0</td>\n",
       "      <td>6</td>\n",
       "      <td>30</td>\n",
       "      <td>8</td>\n",
       "      <td>Normal</td>\n",
       "      <td>72</td>\n",
       "      <td>5000</td>\n",
       "      <td>125</td>\n",
       "      <td>80</td>\n",
       "    </tr>\n",
       "    <tr>\n",
       "      <th>...</th>\n",
       "      <td>...</td>\n",
       "      <td>...</td>\n",
       "      <td>...</td>\n",
       "      <td>...</td>\n",
       "      <td>...</td>\n",
       "      <td>...</td>\n",
       "      <td>...</td>\n",
       "      <td>...</td>\n",
       "      <td>...</td>\n",
       "      <td>...</td>\n",
       "      <td>...</td>\n",
       "      <td>...</td>\n",
       "    </tr>\n",
       "    <tr>\n",
       "      <th>369</th>\n",
       "      <td>Female</td>\n",
       "      <td>59</td>\n",
       "      <td>Nurse</td>\n",
       "      <td>8.1</td>\n",
       "      <td>9</td>\n",
       "      <td>75</td>\n",
       "      <td>3</td>\n",
       "      <td>Overweight</td>\n",
       "      <td>68</td>\n",
       "      <td>7000</td>\n",
       "      <td>140</td>\n",
       "      <td>95</td>\n",
       "    </tr>\n",
       "    <tr>\n",
       "      <th>320</th>\n",
       "      <td>Female</td>\n",
       "      <td>53</td>\n",
       "      <td>Engineer</td>\n",
       "      <td>8.5</td>\n",
       "      <td>9</td>\n",
       "      <td>30</td>\n",
       "      <td>3</td>\n",
       "      <td>Normal</td>\n",
       "      <td>65</td>\n",
       "      <td>5000</td>\n",
       "      <td>125</td>\n",
       "      <td>80</td>\n",
       "    </tr>\n",
       "    <tr>\n",
       "      <th>15</th>\n",
       "      <td>Male</td>\n",
       "      <td>29</td>\n",
       "      <td>Doctor</td>\n",
       "      <td>6.0</td>\n",
       "      <td>6</td>\n",
       "      <td>30</td>\n",
       "      <td>8</td>\n",
       "      <td>Normal</td>\n",
       "      <td>70</td>\n",
       "      <td>8000</td>\n",
       "      <td>120</td>\n",
       "      <td>80</td>\n",
       "    </tr>\n",
       "    <tr>\n",
       "      <th>125</th>\n",
       "      <td>Female</td>\n",
       "      <td>37</td>\n",
       "      <td>Nurse</td>\n",
       "      <td>7.5</td>\n",
       "      <td>8</td>\n",
       "      <td>60</td>\n",
       "      <td>4</td>\n",
       "      <td>Normal</td>\n",
       "      <td>70</td>\n",
       "      <td>8000</td>\n",
       "      <td>120</td>\n",
       "      <td>80</td>\n",
       "    </tr>\n",
       "    <tr>\n",
       "      <th>265</th>\n",
       "      <td>Female</td>\n",
       "      <td>48</td>\n",
       "      <td>Nurse</td>\n",
       "      <td>5.9</td>\n",
       "      <td>6</td>\n",
       "      <td>90</td>\n",
       "      <td>8</td>\n",
       "      <td>Overweight</td>\n",
       "      <td>75</td>\n",
       "      <td>10000</td>\n",
       "      <td>140</td>\n",
       "      <td>95</td>\n",
       "    </tr>\n",
       "  </tbody>\n",
       "</table>\n",
       "<p>261 rows × 12 columns</p>\n",
       "</div>"
      ],
      "text/plain": [
       "     Gender  Age   Occupation  Sleep Duration  Quality of Sleep  \\\n",
       "195    Male   43  Salesperson             6.5                 6   \n",
       "215    Male   43     Engineer             7.8                 8   \n",
       "36     Male   31       Doctor             6.1                 6   \n",
       "10     Male   29       Doctor             6.1                 6   \n",
       "61     Male   32       Doctor             6.0                 6   \n",
       "..      ...  ...          ...             ...               ...   \n",
       "369  Female   59        Nurse             8.1                 9   \n",
       "320  Female   53     Engineer             8.5                 9   \n",
       "15     Male   29       Doctor             6.0                 6   \n",
       "125  Female   37        Nurse             7.5                 8   \n",
       "265  Female   48        Nurse             5.9                 6   \n",
       "\n",
       "     Physical Activity Level  Stress Level BMI Category  Heart Rate  \\\n",
       "195                       45             7   Overweight          72   \n",
       "215                       90             5       Normal          70   \n",
       "36                        30             8       Normal          72   \n",
       "10                        30             8       Normal          70   \n",
       "61                        30             8       Normal          72   \n",
       "..                       ...           ...          ...         ...   \n",
       "369                       75             3   Overweight          68   \n",
       "320                       30             3       Normal          65   \n",
       "15                        30             8       Normal          70   \n",
       "125                       60             4       Normal          70   \n",
       "265                       90             8   Overweight          75   \n",
       "\n",
       "     Daily Steps  Systolic Pressure  Diastolic Pressure  \n",
       "195         6000                130                  85  \n",
       "215         8000                130                  85  \n",
       "36          5000                125                  80  \n",
       "10          8000                120                  80  \n",
       "61          5000                125                  80  \n",
       "..           ...                ...                 ...  \n",
       "369         7000                140                  95  \n",
       "320         5000                125                  80  \n",
       "15          8000                120                  80  \n",
       "125         8000                120                  80  \n",
       "265        10000                140                  95  \n",
       "\n",
       "[261 rows x 12 columns]"
      ]
     },
     "execution_count": 42,
     "metadata": {},
     "output_type": "execute_result"
    }
   ],
   "source": [
    "x_train"
   ]
  },
  {
   "cell_type": "code",
   "execution_count": 43,
   "id": "fa34a913-3279-4f58-b949-fcab20dd032d",
   "metadata": {},
   "outputs": [],
   "source": [
    "# One hot Encoding\n",
    "trans = ColumnTransformer(transformers = [\n",
    "    ('tnf1',OneHotEncoder(sparse = False,handle_unknown = 'ignore'),['Gender','Occupation']),\n",
    "    ('tnf2',OrdinalEncoder(categories=[['Normal','Overweight','Obese']]),['BMI Category']),\n",
    "], remainder='passthrough')"
   ]
  },
  {
   "cell_type": "code",
   "execution_count": 44,
   "id": "f6a66bf4-45b3-4b9b-9ba1-b6a63f67cacd",
   "metadata": {},
   "outputs": [
    {
     "name": "stderr",
     "output_type": "stream",
     "text": [
      "C:\\Users\\amits\\anaconda3\\lib\\site-packages\\sklearn\\preprocessing\\_encoders.py:975: FutureWarning: `sparse` was renamed to `sparse_output` in version 1.2 and will be removed in 1.4. `sparse_output` is ignored unless you leave `sparse` to its default value.\n",
      "  warnings.warn(\n"
     ]
    }
   ],
   "source": [
    "x_train = trans.fit_transform(x_train)\n",
    "x_test = trans.transform(x_test)"
   ]
  },
  {
   "cell_type": "code",
   "execution_count": 54,
   "id": "90505bd0-3d5e-408f-8928-c456f99b8665",
   "metadata": {},
   "outputs": [],
   "source": [
    "# Importing Decision Tree Classifier\n",
    "from sklearn.ensemble import RandomForestClassifier\n",
    "trf3 = RandomForestClassifier()"
   ]
  },
  {
   "cell_type": "code",
   "execution_count": 55,
   "id": "ee2c2d46-963e-45d4-8d34-b1720bdc102c",
   "metadata": {},
   "outputs": [],
   "source": [
    "# Creating Pipeline\n",
    "from sklearn.pipeline import Pipeline\n",
    "pipe = Pipeline([\n",
    "    ('trf3',trf3)\n",
    "])"
   ]
  },
  {
   "cell_type": "code",
   "execution_count": 56,
   "id": "1257ed69-dfbc-4b3d-8463-7777fe0e5fad",
   "metadata": {},
   "outputs": [
    {
     "data": {
      "text/html": [
       "<style>#sk-container-id-2 {color: black;}#sk-container-id-2 pre{padding: 0;}#sk-container-id-2 div.sk-toggleable {background-color: white;}#sk-container-id-2 label.sk-toggleable__label {cursor: pointer;display: block;width: 100%;margin-bottom: 0;padding: 0.3em;box-sizing: border-box;text-align: center;}#sk-container-id-2 label.sk-toggleable__label-arrow:before {content: \"▸\";float: left;margin-right: 0.25em;color: #696969;}#sk-container-id-2 label.sk-toggleable__label-arrow:hover:before {color: black;}#sk-container-id-2 div.sk-estimator:hover label.sk-toggleable__label-arrow:before {color: black;}#sk-container-id-2 div.sk-toggleable__content {max-height: 0;max-width: 0;overflow: hidden;text-align: left;background-color: #f0f8ff;}#sk-container-id-2 div.sk-toggleable__content pre {margin: 0.2em;color: black;border-radius: 0.25em;background-color: #f0f8ff;}#sk-container-id-2 input.sk-toggleable__control:checked~div.sk-toggleable__content {max-height: 200px;max-width: 100%;overflow: auto;}#sk-container-id-2 input.sk-toggleable__control:checked~label.sk-toggleable__label-arrow:before {content: \"▾\";}#sk-container-id-2 div.sk-estimator input.sk-toggleable__control:checked~label.sk-toggleable__label {background-color: #d4ebff;}#sk-container-id-2 div.sk-label input.sk-toggleable__control:checked~label.sk-toggleable__label {background-color: #d4ebff;}#sk-container-id-2 input.sk-hidden--visually {border: 0;clip: rect(1px 1px 1px 1px);clip: rect(1px, 1px, 1px, 1px);height: 1px;margin: -1px;overflow: hidden;padding: 0;position: absolute;width: 1px;}#sk-container-id-2 div.sk-estimator {font-family: monospace;background-color: #f0f8ff;border: 1px dotted black;border-radius: 0.25em;box-sizing: border-box;margin-bottom: 0.5em;}#sk-container-id-2 div.sk-estimator:hover {background-color: #d4ebff;}#sk-container-id-2 div.sk-parallel-item::after {content: \"\";width: 100%;border-bottom: 1px solid gray;flex-grow: 1;}#sk-container-id-2 div.sk-label:hover label.sk-toggleable__label {background-color: #d4ebff;}#sk-container-id-2 div.sk-serial::before {content: \"\";position: absolute;border-left: 1px solid gray;box-sizing: border-box;top: 0;bottom: 0;left: 50%;z-index: 0;}#sk-container-id-2 div.sk-serial {display: flex;flex-direction: column;align-items: center;background-color: white;padding-right: 0.2em;padding-left: 0.2em;position: relative;}#sk-container-id-2 div.sk-item {position: relative;z-index: 1;}#sk-container-id-2 div.sk-parallel {display: flex;align-items: stretch;justify-content: center;background-color: white;position: relative;}#sk-container-id-2 div.sk-item::before, #sk-container-id-2 div.sk-parallel-item::before {content: \"\";position: absolute;border-left: 1px solid gray;box-sizing: border-box;top: 0;bottom: 0;left: 50%;z-index: -1;}#sk-container-id-2 div.sk-parallel-item {display: flex;flex-direction: column;z-index: 1;position: relative;background-color: white;}#sk-container-id-2 div.sk-parallel-item:first-child::after {align-self: flex-end;width: 50%;}#sk-container-id-2 div.sk-parallel-item:last-child::after {align-self: flex-start;width: 50%;}#sk-container-id-2 div.sk-parallel-item:only-child::after {width: 0;}#sk-container-id-2 div.sk-dashed-wrapped {border: 1px dashed gray;margin: 0 0.4em 0.5em 0.4em;box-sizing: border-box;padding-bottom: 0.4em;background-color: white;}#sk-container-id-2 div.sk-label label {font-family: monospace;font-weight: bold;display: inline-block;line-height: 1.2em;}#sk-container-id-2 div.sk-label-container {text-align: center;}#sk-container-id-2 div.sk-container {/* jupyter's `normalize.less` sets `[hidden] { display: none; }` but bootstrap.min.css set `[hidden] { display: none !important; }` so we also need the `!important` here to be able to override the default hidden behavior on the sphinx rendered scikit-learn.org. See: https://github.com/scikit-learn/scikit-learn/issues/21755 */display: inline-block !important;position: relative;}#sk-container-id-2 div.sk-text-repr-fallback {display: none;}</style><div id=\"sk-container-id-2\" class=\"sk-top-container\"><div class=\"sk-text-repr-fallback\"><pre>Pipeline(steps=[(&#x27;trf3&#x27;, RandomForestClassifier())])</pre><b>In a Jupyter environment, please rerun this cell to show the HTML representation or trust the notebook. <br />On GitHub, the HTML representation is unable to render, please try loading this page with nbviewer.org.</b></div><div class=\"sk-container\" hidden><div class=\"sk-item sk-dashed-wrapped\"><div class=\"sk-label-container\"><div class=\"sk-label sk-toggleable\"><input class=\"sk-toggleable__control sk-hidden--visually\" id=\"sk-estimator-id-3\" type=\"checkbox\" ><label for=\"sk-estimator-id-3\" class=\"sk-toggleable__label sk-toggleable__label-arrow\">Pipeline</label><div class=\"sk-toggleable__content\"><pre>Pipeline(steps=[(&#x27;trf3&#x27;, RandomForestClassifier())])</pre></div></div></div><div class=\"sk-serial\"><div class=\"sk-item\"><div class=\"sk-estimator sk-toggleable\"><input class=\"sk-toggleable__control sk-hidden--visually\" id=\"sk-estimator-id-4\" type=\"checkbox\" ><label for=\"sk-estimator-id-4\" class=\"sk-toggleable__label sk-toggleable__label-arrow\">RandomForestClassifier</label><div class=\"sk-toggleable__content\"><pre>RandomForestClassifier()</pre></div></div></div></div></div></div></div>"
      ],
      "text/plain": [
       "Pipeline(steps=[('trf3', RandomForestClassifier())])"
      ]
     },
     "execution_count": 56,
     "metadata": {},
     "output_type": "execute_result"
    }
   ],
   "source": [
    "pipe.fit(x_train,y_train)"
   ]
  },
  {
   "cell_type": "code",
   "execution_count": 57,
   "id": "0fc3bff1-d2d9-4f2b-b52c-87f814fdbdc8",
   "metadata": {},
   "outputs": [],
   "source": [
    "y_pred = pipe.predict(x_test)"
   ]
  },
  {
   "cell_type": "code",
   "execution_count": 58,
   "id": "f95c3da4-117c-44a4-9307-03e8499773c7",
   "metadata": {},
   "outputs": [],
   "source": [
    "from sklearn.metrics import r2_score, accuracy_score"
   ]
  },
  {
   "cell_type": "code",
   "execution_count": 59,
   "id": "63825a05-d478-4d55-82ed-d85af88ddd8d",
   "metadata": {},
   "outputs": [
    {
     "name": "stdout",
     "output_type": "stream",
     "text": [
      "Accuracy Score of model is: 0.9026548672566371\n"
     ]
    }
   ],
   "source": [
    "acc=accuracy_score(y_pred, y_test)\n",
    "print('Accuracy Score of model is:',acc)"
   ]
  },
  {
   "cell_type": "code",
   "execution_count": 60,
   "id": "53ab44ad-949c-4ecf-8d4e-07c7d0ddd0eb",
   "metadata": {},
   "outputs": [
    {
     "data": {
      "image/png": "[encoded data removed]",
      "text/plain": [
       "<Figure size 432x288 with 1 Axes>"
      ]
     },
     "metadata": {
      "needs_background": "light"
     },
     "output_type": "display_data"
    }
   ],
   "source": [
    "ax = sns.kdeplot(y_test, color=\"r\", label=\"Actual Value\")\n",
    "sns.kdeplot(y_pred, color=\"b\", label=\"Fitted Values\" , ax=ax)\n",
    "plt.title('Actual vs Fitted Values for Sleep Disorder Prediction')\n",
    "plt.xlabel('Sleep Disorder')\n",
    "plt.ylabel('Proportion of People')\n",
    "plt.show()"
   ]
  },
  {
   "cell_type": "code",
   "execution_count": 61,
   "id": "f4d81264-1932-4019-882f-cedc24510e03",
   "metadata": {},
   "outputs": [],
   "source": [
    "import pickle"
   ]
  },
  {
   "cell_type": "code",
   "execution_count": 62,
   "id": "945a8943-39b9-444f-b917-5134b6b7763b",
   "metadata": {},
   "outputs": [],
   "source": [
    "pickle.dump(pipe, open(\"sleepdisorder.pkl\",\"wb\"))"
   ]
  }
 ],
 "metadata": {
  "kernelspec": {
   "display_name": "Python 3 (ipykernel)",
   "language": "python",
   "name": "python3"
  },
  "language_info": {
   "codemirror_mode": {
    "name": "ipython",
    "version": 3
   },
   "file_extension": ".py",
   "mimetype": "text/x-python",
   "name": "python",
   "nbconvert_exporter": "python",
   "pygments_lexer": "ipython3",
   "version": "3.9.7"
  }
 },
 "nbformat": 4,
 "nbformat_minor": 5
}
