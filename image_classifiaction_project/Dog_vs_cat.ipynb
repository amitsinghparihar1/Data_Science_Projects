{
  "nbformat": 4,
  "nbformat_minor": 0,
  "metadata": {
    "colab": {
      "provenance": [],
      "gpuType": "T4"
    },
    "kernelspec": {
      "name": "python3",
      "display_name": "Python 3"
    },
    "language_info": {
      "name": "python"
    },
    "accelerator": "GPU"
  },
  "cells": [
    {
      "cell_type": "code",
      "source": [
        "!mkdir -p ~/.kaggle\n",
        "!cp kaggle.json ~/.kaggle/"
      ],
      "metadata": {
        "id": "PLds7s_KjHrb"
      },
      "execution_count": 1,
      "outputs": []
    },
    {
      "cell_type": "code",
      "source": [
        "!kaggle datasets download -d salader/dogs-vs-cats"
      ],
      "metadata": {
        "colab": {
          "base_uri": "https://localhost:8080/"
        },
        "id": "I92kMTeNfePS",
        "outputId": "b9a1c8a1-2efc-432f-e03b-f9ae94512a4c"
      },
      "execution_count": 2,
      "outputs": [
        {
          "output_type": "stream",
          "name": "stdout",
          "text": [
            "Warning: Your Kaggle API key is readable by other users on this system! To fix this, you can run 'chmod 600 /root/.kaggle/kaggle.json'\n",
            "Downloading dogs-vs-cats.zip to /content\n",
            " 99% 1.05G/1.06G [00:05<00:00, 198MB/s]\n",
            "100% 1.06G/1.06G [00:05<00:00, 198MB/s]\n"
          ]
        }
      ]
    },
    {
      "cell_type": "code",
      "source": [
        "import zipfile\n",
        "zip_ref = zipfile.ZipFile('/content/dogs-vs-cats.zip', 'r')\n",
        "zip_ref.extractall('/content')\n",
        "zip_ref.close()"
      ],
      "metadata": {
        "id": "BedqzrZHf1oZ"
      },
      "execution_count": 3,
      "outputs": []
    },
    {
      "cell_type": "code",
      "source": [
        "import tensorflow as tf\n",
        "from tensorflow import keras\n",
        "from keras import Sequential\n",
        "from keras.layers import Dense, Conv2D, MaxPooling2D, Flatten, BatchNormalization, Dropout"
      ],
      "metadata": {
        "id": "o1lGhhYQg9BE"
      },
      "execution_count": 4,
      "outputs": []
    },
    {
      "cell_type": "code",
      "source": [
        "# generators\n",
        "train_ds = keras.utils.image_dataset_from_directory(\n",
        "    directory = '/content/dogs_vs_cats/train',\n",
        "    labels='inferred',\n",
        "    label_mode = 'int',\n",
        "    batch_size=32,\n",
        "    image_size=(256,256)\n",
        ")\n",
        "\n",
        "validation_ds = keras.utils.image_dataset_from_directory(\n",
        "    directory = '/content/dogs_vs_cats/test',\n",
        "    labels='inferred',\n",
        "    label_mode = 'int',\n",
        "    batch_size=32,\n",
        "    image_size=(256,256)\n",
        ")"
      ],
      "metadata": {
        "colab": {
          "base_uri": "https://localhost:8080/"
        },
        "id": "hCJNd5LMh0zK",
        "outputId": "968a0b45-e1bb-4bd2-900e-05b2f79d3360"
      },
      "execution_count": 5,
      "outputs": [
        {
          "output_type": "stream",
          "name": "stdout",
          "text": [
            "Found 20000 files belonging to 2 classes.\n",
            "Found 5000 files belonging to 2 classes.\n"
          ]
        }
      ]
    },
    {
      "cell_type": "code",
      "source": [
        "# Normalize\n",
        "def process(image,label):\n",
        "    image = tf.cast(image/255. ,tf.float32)\n",
        "    return image,label\n",
        "\n",
        "train_ds = train_ds.map(process)\n",
        "validation_ds = validation_ds.map(process)"
      ],
      "metadata": {
        "id": "2AWu6d-Ui8DI"
      },
      "execution_count": 6,
      "outputs": []
    },
    {
      "cell_type": "code",
      "source": [
        "model = Sequential()\n",
        "model.add(Conv2D(40, kernel_size=(3,3), padding=\"valid\", input_shape=(256,256,3), activation=\"relu\"))\n",
        "model.add(BatchNormalization())\n",
        "model.add(MaxPooling2D(pool_size=(2,2), padding=\"valid\", strides=2))\n",
        "\n",
        "model.add(Conv2D(80, kernel_size=(3,3), padding=\"valid\", activation=\"relu\"))\n",
        "model.add(BatchNormalization())\n",
        "model.add(MaxPooling2D(pool_size=(2,2), padding=\"valid\", strides=2))\n",
        "\n",
        "model.add(Conv2D(160,kernel_size=(3,3), padding=\"valid\", activation=\"relu\"))\n",
        "model.add(BatchNormalization())\n",
        "model.add(MaxPooling2D(pool_size=(2,2), padding=\"valid\", strides=2))\n",
        "\n",
        "model.add(Flatten())\n",
        "\n",
        "model.add(Dense(130, activation=\"relu\"))\n",
        "model.add(Dropout(0.1))\n",
        "model.add(Dense(65, activation=\"relu\"))\n",
        "model.add(Dropout(0.1))\n",
        "model.add(Dense(1, activation=\"sigmoid\"))\n",
        "\n",
        "\n"
      ],
      "metadata": {
        "id": "cPutqMavkA3g"
      },
      "execution_count": 7,
      "outputs": []
    },
    {
      "cell_type": "code",
      "source": [
        "model.compile(optimizer=\"adam\", loss=\"binary_crossentropy\", metrics=['accuracy'])"
      ],
      "metadata": {
        "id": "6Pcnvm3xnivQ"
      },
      "execution_count": 8,
      "outputs": []
    },
    {
      "cell_type": "code",
      "source": [
        "from keras import callbacks\n",
        "early_stopping = keras.callbacks.EarlyStopping(\n",
        "        monitor='val_loss',  # Metric to monitor (validation loss)\n",
        "        patience=10,          # Number of epochs with no improvement to wait\n",
        "        verbose=1,\n",
        "        mode='auto',\n",
        "        baseline=None,\n",
        "        restore_best_weights=True,# Restore best model weights when stopped\n",
        "    )\n"
      ],
      "metadata": {
        "id": "ptit29trvd9r"
      },
      "execution_count": 9,
      "outputs": []
    },
    {
      "cell_type": "code",
      "source": [
        "history=model.fit(train_ds, validation_data=validation_ds,epochs=50, callbacks=early_stopping )"
      ],
      "metadata": {
        "colab": {
          "base_uri": "https://localhost:8080/"
        },
        "id": "WaRLLEuUoKQg",
        "outputId": "1458889c-ab37-4e0d-bb23-40a4380b186f"
      },
      "execution_count": 10,
      "outputs": [
        {
          "output_type": "stream",
          "name": "stdout",
          "text": [
            "Epoch 1/50\n",
            "625/625 [==============================] - 102s 138ms/step - loss: 1.8771 - accuracy: 0.5577 - val_loss: 0.7249 - val_accuracy: 0.5894\n",
            "Epoch 2/50\n",
            "625/625 [==============================] - 85s 135ms/step - loss: 0.6293 - accuracy: 0.6598 - val_loss: 0.6826 - val_accuracy: 0.5986\n",
            "Epoch 3/50\n",
            "625/625 [==============================] - 89s 140ms/step - loss: 0.5609 - accuracy: 0.7117 - val_loss: 0.5466 - val_accuracy: 0.7146\n",
            "Epoch 4/50\n",
            "625/625 [==============================] - 87s 139ms/step - loss: 0.4807 - accuracy: 0.7556 - val_loss: 0.4772 - val_accuracy: 0.7752\n",
            "Epoch 5/50\n",
            "625/625 [==============================] - 88s 140ms/step - loss: 0.4258 - accuracy: 0.7862 - val_loss: 0.6139 - val_accuracy: 0.7450\n",
            "Epoch 6/50\n",
            "625/625 [==============================] - 87s 139ms/step - loss: 0.3941 - accuracy: 0.8075 - val_loss: 0.4185 - val_accuracy: 0.8070\n",
            "Epoch 7/50\n",
            "625/625 [==============================] - 88s 140ms/step - loss: 0.3328 - accuracy: 0.8406 - val_loss: 1.1177 - val_accuracy: 0.6536\n",
            "Epoch 8/50\n",
            "625/625 [==============================] - 85s 134ms/step - loss: 0.2736 - accuracy: 0.8697 - val_loss: 0.4318 - val_accuracy: 0.7776\n",
            "Epoch 9/50\n",
            "625/625 [==============================] - 85s 136ms/step - loss: 0.2309 - accuracy: 0.8910 - val_loss: 0.4860 - val_accuracy: 0.8406\n",
            "Epoch 10/50\n",
            "625/625 [==============================] - 86s 138ms/step - loss: 0.1910 - accuracy: 0.9146 - val_loss: 0.4200 - val_accuracy: 0.8298\n",
            "Epoch 11/50\n",
            "625/625 [==============================] - 85s 136ms/step - loss: 0.1655 - accuracy: 0.9294 - val_loss: 0.5602 - val_accuracy: 0.8112\n",
            "Epoch 12/50\n",
            "625/625 [==============================] - 88s 140ms/step - loss: 0.1370 - accuracy: 0.9414 - val_loss: 0.5338 - val_accuracy: 0.7942\n",
            "Epoch 13/50\n",
            "625/625 [==============================] - 85s 136ms/step - loss: 0.1197 - accuracy: 0.9518 - val_loss: 0.6394 - val_accuracy: 0.8348\n",
            "Epoch 14/50\n",
            "625/625 [==============================] - 88s 140ms/step - loss: 0.0996 - accuracy: 0.9583 - val_loss: 0.5838 - val_accuracy: 0.8396\n",
            "Epoch 15/50\n",
            "625/625 [==============================] - 87s 139ms/step - loss: 0.0830 - accuracy: 0.9661 - val_loss: 0.5784 - val_accuracy: 0.8396\n",
            "Epoch 16/50\n",
            "625/625 [==============================] - ETA: 0s - loss: 0.0786 - accuracy: 0.9685Restoring model weights from the end of the best epoch: 6.\n",
            "625/625 [==============================] - 87s 138ms/step - loss: 0.0786 - accuracy: 0.9685 - val_loss: 0.7651 - val_accuracy: 0.8024\n",
            "Epoch 16: early stopping\n"
          ]
        }
      ]
    },
    {
      "cell_type": "code",
      "source": [
        " history.history.keys()"
      ],
      "metadata": {
        "colab": {
          "base_uri": "https://localhost:8080/"
        },
        "id": "3XpcSQCXojDK",
        "outputId": "63c8f84f-0f63-4953-8523-69ed3f88c960"
      },
      "execution_count": 15,
      "outputs": [
        {
          "output_type": "execute_result",
          "data": {
            "text/plain": [
              "dict_keys(['loss', 'accuracy', 'val_loss', 'val_accuracy'])"
            ]
          },
          "metadata": {},
          "execution_count": 15
        }
      ]
    },
    {
      "cell_type": "code",
      "source": [
        "import matplotlib.pyplot as plt"
      ],
      "metadata": {
        "id": "PjIZhkbZuRc3"
      },
      "execution_count": 16,
      "outputs": []
    },
    {
      "cell_type": "code",
      "source": [
        "plt.plot(history.history[\"loss\"])\n",
        "plt.plot(history.history[\"val_loss\"])\n",
        "plt.legend([\"train\",\"test\"])\n",
        "plt.xlabel(\"epochs\")\n",
        "plt.ylabel(\"loss\")\n",
        "plt.show()"
      ],
      "metadata": {
        "colab": {
          "base_uri": "https://localhost:8080/",
          "height": 449
        },
        "id": "NPu6qmeMtsLH",
        "outputId": "28a715ee-40fc-4500-f920-787211c537af"
      },
      "execution_count": 17,
      "outputs": [
        {
          "output_type": "display_data",
          "data": {
            "text/plain": [
              "<Figure size 640x480 with 1 Axes>"
            ],
            "image/png": "[encoded data removed]"
          },
          "metadata": {}
        }
      ]
    },
    {
      "cell_type": "code",
      "source": [
        "plt.plot(history.history[\"accuracy\"], color=\"red\", label=\"train\")\n",
        "plt.plot(history.history[\"val_accuracy\"], color=\"blue\", label=\"validation\")\n",
        "plt.legend()\n",
        "plt.xlabel(\"epochs\")\n",
        "plt.ylabel(\"accuracy\")\n",
        "plt.show()"
      ],
      "metadata": {
        "colab": {
          "base_uri": "https://localhost:8080/",
          "height": 449
        },
        "id": "yeQ_vS5uuOse",
        "outputId": "0e26940b-dfff-419e-ea2a-72e05b21bcae"
      },
      "execution_count": 23,
      "outputs": [
        {
          "output_type": "display_data",
          "data": {
            "text/plain": [
              "<Figure size 640x480 with 1 Axes>"
            ],
            "image/png": "[encoded data removed]"
          },
          "metadata": {}
        }
      ]
    },
    {
      "cell_type": "code",
      "source": [
        "import cv2\n",
        "test_img = cv2.imread(\"/content/test.jpeg\")"
      ],
      "metadata": {
        "id": "VhtFtoY0-j4O"
      },
      "execution_count": 24,
      "outputs": []
    },
    {
      "cell_type": "code",
      "source": [
        "test_img.shape\n",
        "test_img = cv2.resize(test_img,(256,256))\n",
        "test_input = test_img.reshape((1,256,256,3))"
      ],
      "metadata": {
        "id": "HE9YwmvOAMjX"
      },
      "execution_count": 37,
      "outputs": []
    },
    {
      "cell_type": "code",
      "source": [
        "model.predict(test_input)\n"
      ],
      "metadata": {
        "colab": {
          "base_uri": "https://localhost:8080/"
        },
        "id": "LHnjv-Z-AWHA",
        "outputId": "29acc1cb-1f08-445e-b62b-10bf6e88de6f"
      },
      "execution_count": 38,
      "outputs": [
        {
          "output_type": "stream",
          "name": "stdout",
          "text": [
            "1/1 [==============================] - 0s 22ms/step\n"
          ]
        },
        {
          "output_type": "execute_result",
          "data": {
            "text/plain": [
              "array([[2.3872995e-23]], dtype=float32)"
            ]
          },
          "metadata": {},
          "execution_count": 38
        }
      ]
    },
    {
      "cell_type": "code",
      "source": [
        "test_img = cv2.imread(\"/content/test2.jpeg\")\n",
        "test_img= cv2.resize(test_img,(256,256))\n",
        "test_input = test_img.reshape((1,256,256,3))\n",
        "model.predict(test_input)"
      ],
      "metadata": {
        "colab": {
          "base_uri": "https://localhost:8080/"
        },
        "id": "PRZYWxxEBDj0",
        "outputId": "701ebcc4-1756-4dba-b48e-b0f82d18b518"
      },
      "execution_count": 39,
      "outputs": [
        {
          "output_type": "stream",
          "name": "stdout",
          "text": [
            "1/1 [==============================] - 0s 18ms/step\n"
          ]
        },
        {
          "output_type": "execute_result",
          "data": {
            "text/plain": [
              "array([[0.]], dtype=float32)"
            ]
          },
          "metadata": {},
          "execution_count": 39
        }
      ]
    }
  ]
}